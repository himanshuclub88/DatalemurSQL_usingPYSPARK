{
 "cells": [
  {
   "cell_type": "markdown",
   "id": "6d79a20f",
   "metadata": {},
   "source": [
    "# Swapped Food Delivery  \n",
    "**Zomato SQL Interview Question**\n",
    "\n",
    "---\n",
    "\n",
    "### Question  \n",
    "Zomato is a leading online food delivery service that connects users with various restaurants and cuisines, allowing them to browse menus, place orders, and get meals delivered to their doorsteps.\n",
    "\n",
    "Recently, Zomato encountered an issue with their delivery system. Due to an error in the delivery driver instructions, each item's order was swapped with the item in the subsequent row. As a data analyst, you're asked to correct this swapping error and return the proper pairing of order ID and item.\n",
    "\n",
    "If the last item has an odd order ID, it should remain as the last item in the corrected data. For example, if the last item is Order ID 7 Tandoori Chicken, then it should remain as Order ID 7 in the corrected data.\n",
    "\n",
    "In the results, return the correct pairs of order IDs and items.\n",
    "\n",
    "---\n",
    "\n",
    "### Schema\n",
    "\n",
    "**orders Table**  \n",
    "| column_name | type    | description                         |\n",
    "|-------------|---------|-------------------------------------|\n",
    "| order_id    | integer | The ID of each Zomato order.        |\n",
    "| item        | string  | The name of the food item in order. |\n",
    "\n",
    "---\n",
    "\n",
    "### Example Input\n",
    "\n",
    "Initial (incorrect) data:\n",
    "\n",
    "| order_id | item             |\n",
    "|----------|------------------|\n",
    "| 1        | Chow Mein        |\n",
    "| 2        | Pizza            |\n",
    "| 3        | Pad Thai         |\n",
    "| 4        | Butter Chicken   |\n",
    "| 5        | Eggrolls         |\n",
    "| 6        | Burger           |\n",
    "| 7        | Tandoori Chicken |\n",
    "\n",
    "---\n",
    "\n",
    "### Example Output\n",
    "\n",
    "Corrected data:\n",
    "\n",
    "| corrected_order_id | item             |\n",
    "|--------------------|------------------|\n",
    "| 1                  | Pizza            |\n",
    "| 2                  | Chow Mein        |\n",
    "| 3                  | Butter Chicken   |\n",
    "| 4                  | Pad Thai         |\n",
    "| 5                  | Burger           |\n",
    "| 6                  | Eggrolls         |\n",
    "| 7                  | Tandoori Chicken |\n",
    "\n",
    "---\n",
    "\n",
    "### Explanation  \n",
    "- Order ID 1 is now associated with Pizza  \n",
    "- Order ID 2 is paired with Chow Mein  \n",
    "- This pattern continues with each adjacent pair swapped  \n",
    "- Order ID 7 remains unchanged because it is the last odd order ID in the list  \n",
    "- This adjustment ensures that each order is correctly aligned with its respective item, resolving the swap error.\n"
   ]
  },
  {
   "cell_type": "code",
   "execution_count": 1,
   "id": "2d76186c",
   "metadata": {},
   "outputs": [
    {
     "name": "stdout",
     "output_type": "stream",
     "text": [
      "+--------+----------------+\n",
      "|order_id|            item|\n",
      "+--------+----------------+\n",
      "|       1|       Chow Mein|\n",
      "|       2|           Pizza|\n",
      "|       3|        Pad Thai|\n",
      "|       4|  Butter Chicken|\n",
      "|       5|        Eggrolls|\n",
      "|       6|          Burger|\n",
      "|       7|Tandoori Chicken|\n",
      "+--------+----------------+\n",
      "\n"
     ]
    }
   ],
   "source": [
    "\n",
    "from pyspark.sql import SparkSession\n",
    "from pyspark.sql.types import StructType, StructField, IntegerType, StringType\n",
    "from pyspark.sql.functions import *\n",
    "\n",
    "# Create SparkSession\n",
    "spark = SparkSession.builder.master('local[1]').appName(\"SwappedFoodDelivery\").getOrCreate()\n",
    "\n",
    "# Define schema\n",
    "schema = StructType([\n",
    "    StructField(\"order_id\", IntegerType(), True),\n",
    "    StructField(\"item\", StringType(), True)\n",
    "])\n",
    "\n",
    "# Sample data as per the example input\n",
    "data = [\n",
    "    (1, \"Chow Mein\"),\n",
    "    (2, \"Pizza\"),\n",
    "    (3, \"Pad Thai\"),\n",
    "    (4, \"Butter Chicken\"),\n",
    "    (5, \"Eggrolls\"),\n",
    "    (6, \"Burger\"),\n",
    "    (7, \"Tandoori Chicken\")\n",
    "]\n",
    "\n",
    "# Create DataFrame\n",
    "orders_df = spark.createDataFrame(data, schema)\n",
    "\n",
    "# Show the DataFrame\n",
    "orders_df.show()\n"
   ]
  },
  {
   "cell_type": "code",
   "execution_count": 2,
   "id": "170d9a73",
   "metadata": {},
   "outputs": [
    {
     "name": "stdout",
     "output_type": "stream",
     "text": [
      "7\n",
      "+------------------+----------------+\n",
      "|corrected_order_id|            item|\n",
      "+------------------+----------------+\n",
      "|                 1|           Pizza|\n",
      "|                 2|       Chow Mein|\n",
      "|                 3|  Butter Chicken|\n",
      "|                 4|        Pad Thai|\n",
      "|                 5|          Burger|\n",
      "|                 6|        Eggrolls|\n",
      "|                 7|Tandoori Chicken|\n",
      "+------------------+----------------+\n",
      "\n"
     ]
    }
   ],
   "source": [
    "mx=orders_df.count()\n",
    "print(mx)\n",
    "orders_df.withColumn('corrected_order_id',when(((col('order_id')%2!=0) & (col('order_id')!=mx)), col('order_id')+1)\n",
    "                                         .when(((col('order_id')%2!=0) & (col('order_id')==mx)), col('order_id'))\n",
    "                                         .otherwise(col('order_id')-1))\\\n",
    "                                         .select('corrected_order_id','item')\\\n",
    "                                         .orderBy('corrected_order_id').show()\n",
    "                                         "
   ]
  },
  {
   "cell_type": "code",
   "execution_count": 3,
   "id": "eacb736d",
   "metadata": {},
   "outputs": [
    {
     "name": "stdout",
     "output_type": "stream",
     "text": [
      "+------------------+----------------+\n",
      "|corrected_order_id|            item|\n",
      "+------------------+----------------+\n",
      "|                 1|           Pizza|\n",
      "|                 2|       Chow Mein|\n",
      "|                 3|  Butter Chicken|\n",
      "|                 4|        Pad Thai|\n",
      "|                 5|          Burger|\n",
      "|                 6|        Eggrolls|\n",
      "|                 7|Tandoori Chicken|\n",
      "+------------------+----------------+\n",
      "\n"
     ]
    }
   ],
   "source": [
    "orders_df.createOrReplaceTempView('orders')\n",
    "\n",
    "spark.sql(\n",
    "'''\n",
    "SELECT \n",
    "    CASE \n",
    "    WHEN order_id%2!=0 and mx!=order_id then order_id+1 \n",
    "    WHEN order_id%2!=0 and mx=order_id then order_id\n",
    "    ELSE order_id-1 end\n",
    "    AS corrected_order_id,\n",
    "    item\n",
    "FROM orders cross join (select max(order_id) as mx from orders)\n",
    "order by 1\n",
    "\n",
    "'''\n",
    ").show()"
   ]
  }
 ],
 "metadata": {
  "kernelspec": {
   "display_name": "Python 3",
   "language": "python",
   "name": "python3"
  },
  "language_info": {
   "codemirror_mode": {
    "name": "ipython",
    "version": 3
   },
   "file_extension": ".py",
   "mimetype": "text/x-python",
   "name": "python",
   "nbconvert_exporter": "python",
   "pygments_lexer": "ipython3",
   "version": "3.11.0"
  }
 },
 "nbformat": 4,
 "nbformat_minor": 5
}
