{
 "cells": [
  {
   "cell_type": "markdown",
   "metadata": {},
   "source": [
    "# Average Review Ratings  \n",
    "**Amazon SQL Interview Question**\n",
    "\n",
    "---\n",
    "\n",
    "## Question\n",
    "\n",
    "Given the `reviews` table, write a query to retrieve the **average star rating** for each product, **grouped by month**.  \n",
    "\n",
    "The output should display:\n",
    "- The **month** as a numerical value (`mth`)\n",
    "- The **product ID**\n",
    "- The **average star rating** rounded to two decimal places  \n",
    "\n",
    "Sort the output first by **month**, then by **product ID**.\n",
    "\n",
    "---\n",
    "\n",
    "## Schema\n",
    "\n",
    "### `reviews` Table:\n",
    "| Column Name  | Type      |\n",
    "|--------------|-----------|\n",
    "| review_id    | integer   |\n",
    "| user_id      | integer   |\n",
    "| submit_date  | datetime  |\n",
    "| product_id   | integer   |\n",
    "| stars        | integer (1-5) |\n",
    "\n",
    "---\n",
    "\n",
    "### Example Input:\n",
    "| review_id | user_id | submit_date         | product_id | stars |\n",
    "|-----------|---------|---------------------|------------|--------|\n",
    "| 6171      | 123     | 06/08/2022 00:00:00 | 50001      | 4      |\n",
    "| 7802      | 265     | 06/10/2022 00:00:00 | 69852      | 4      |\n",
    "| 5293      | 362     | 06/18/2022 00:00:00 | 50001      | 3      |\n",
    "| 6352      | 192     | 07/26/2022 00:00:00 | 69852      | 3      |\n",
    "| 4517      | 981     | 07/05/2022 00:00:00 | 69852      | 2      |\n",
    "\n",
    "---\n",
    "\n",
    "## Example Output:\n",
    "| mth | product | avg_stars |\n",
    "|-----|---------|-----------|\n",
    "| 6   | 50001   | 3.50      |\n",
    "| 6   | 69852   | 4.00      |\n",
    "| 7   | 69852   | 2.50      |\n",
    "\n",
    "---\n",
    "\n",
    "## Explanation\n",
    "\n",
    "- Product **50001** received ratings of **4** and **3** in **June**, resulting in an average of **(4 + 3)/2 = 3.5**.\n",
    "- Product **69852** received:\n",
    "  - A rating of **4** in **June**, average is **4.0**\n",
    "  - Ratings of **3** and **2** in **July**, average is **(3 + 2)/2 = 2.5**\n",
    "\n",
    "---  \n"
   ]
  },
  {
   "cell_type": "code",
   "execution_count": 1,
   "metadata": {},
   "outputs": [
    {
     "name": "stdout",
     "output_type": "stream",
     "text": [
      "+---------+-------+-------------------+----------+-----+\n",
      "|review_id|user_id|        submit_date|product_id|stars|\n",
      "+---------+-------+-------------------+----------+-----+\n",
      "|     6171|    123|2022-06-08 00:00:00|     50001|    4|\n",
      "|     7802|    265|2022-06-10 00:00:00|     69852|    4|\n",
      "|     5293|    362|2022-06-18 00:00:00|     50001|    3|\n",
      "|     6352|    192|2022-07-26 00:00:00|     69852|    3|\n",
      "|     4517|    981|2022-07-05 00:00:00|     69852|    2|\n",
      "+---------+-------+-------------------+----------+-----+\n",
      "\n"
     ]
    }
   ],
   "source": [
    "from pyspark.sql import SparkSession\n",
    "from pyspark.sql.types import StructType, StructField, IntegerType, TimestampType\n",
    "from pyspark.sql.functions import *\n",
    "from datetime import datetime\n",
    "\n",
    "# Initialize Spark session\n",
    "spark = SparkSession.builder.master('local[1]').appName(\"AmazonReviewRatings\").getOrCreate()\n",
    "\n",
    "# Define schema for reviews table\n",
    "reviews_schema = StructType([\n",
    "    StructField(\"review_id\", IntegerType(), True),\n",
    "    StructField(\"user_id\", IntegerType(), True),\n",
    "    StructField(\"submit_date\", TimestampType(), True),\n",
    "    StructField(\"product_id\", IntegerType(), True),\n",
    "    StructField(\"stars\", IntegerType(), True)\n",
    "])\n",
    "\n",
    "# Sample data based on the question\n",
    "reviews_data = [\n",
    "    (6171, 123, datetime(2022, 6, 8, 0, 0, 0), 50001, 4),\n",
    "    (7802, 265, datetime(2022, 6, 10, 0, 0, 0), 69852, 4),\n",
    "    (5293, 362, datetime(2022, 6, 18, 0, 0, 0), 50001, 3),\n",
    "    (6352, 192, datetime(2022, 7, 26, 0, 0, 0), 69852, 3),\n",
    "    (4517, 981, datetime(2022, 7, 5, 0, 0, 0), 69852, 2)\n",
    "]\n",
    "\n",
    "# Create the DataFrame\n",
    "reviews_df = spark.createDataFrame(reviews_data, schema=reviews_schema)\n",
    "\n",
    "# Show the DataFrame\n",
    "reviews_df.show()\n"
   ]
  },
  {
   "cell_type": "code",
   "execution_count": 5,
   "metadata": {},
   "outputs": [
    {
     "name": "stdout",
     "output_type": "stream",
     "text": [
      "+---+----------+----------+\n",
      "|mth|product_id|avg(stars)|\n",
      "+---+----------+----------+\n",
      "|  6|     50001|       3.5|\n",
      "|  6|     69852|       4.0|\n",
      "|  7|     69852|       2.5|\n",
      "+---+----------+----------+\n",
      "\n"
     ]
    }
   ],
   "source": [
    "reviews_df.withColumn('mth',month('submit_date'))\\\n",
    "    .groupBy('mth','product_id').agg(avg('stars'))\\\n",
    "    .orderBy('mth','product_id').show()"
   ]
  },
  {
   "cell_type": "code",
   "execution_count": 8,
   "metadata": {},
   "outputs": [
    {
     "name": "stdout",
     "output_type": "stream",
     "text": [
      "+---+----------+---------+\n",
      "|mth|product_id|avg_stars|\n",
      "+---+----------+---------+\n",
      "|  6|     50001|      3.5|\n",
      "|  6|     69852|      4.0|\n",
      "|  7|     69852|      2.5|\n",
      "+---+----------+---------+\n",
      "\n"
     ]
    }
   ],
   "source": [
    "reviews_df.createOrReplaceTempView('reviews')\n",
    "spark.sql(\n",
    "    \"\"\"\n",
    "select \n",
    "    month(submit_date) as mth, product_id, avg(stars) as avg_stars\n",
    "from reviews\n",
    "group by mth, product_id\n",
    "order by 1,2\n",
    "    \"\"\"\n",
    ").show()"
   ]
  }
 ],
 "metadata": {
  "kernelspec": {
   "display_name": "Python 3",
   "language": "python",
   "name": "python3"
  },
  "language_info": {
   "codemirror_mode": {
    "name": "ipython",
    "version": 3
   },
   "file_extension": ".py",
   "mimetype": "text/x-python",
   "name": "python",
   "nbconvert_exporter": "python",
   "pygments_lexer": "ipython3",
   "version": "3.11.0"
  }
 },
 "nbformat": 4,
 "nbformat_minor": 2
}
