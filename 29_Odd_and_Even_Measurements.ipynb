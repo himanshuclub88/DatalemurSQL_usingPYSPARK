{
 "cells": [
  {
   "cell_type": "markdown",
   "id": "6b94cbf1",
   "metadata": {},
   "source": [
    "# Odd and Even Measurements  \n",
    "**Google SQL Interview Question**\n",
    "\n",
    "---\n",
    "\n",
    "### Question  \n",
    "This is the same question as problem #28 in the SQL Chapter of *Ace the Data Science Interview!*\n",
    "\n",
    "Assume you're given a table with measurement values obtained from a Google sensor over multiple days with measurements taken multiple times within each day.\n",
    "\n",
    "Write a query to calculate the sum of odd-numbered and even-numbered measurements separately for a particular day and display the results in two different columns. Refer to the Example Output below for the desired format.\n",
    "\n",
    "---\n",
    "\n",
    "### Definition:  \n",
    "- Within a day, measurements taken at 1st, 3rd, and 5th times are considered **odd-numbered** measurements.\n",
    "- Measurements taken at 2nd, 4th, and 6th times are considered **even-numbered** measurements.\n",
    "\n",
    "> Effective April 15th, 2023, the question and solution for this question have been revised.\n",
    "\n",
    "---\n",
    "\n",
    "### `measurements` Table:\n",
    "\n",
    "| Column Name         | Type      |\n",
    "|---------------------|-----------|\n",
    "| measurement_id      | integer   |\n",
    "| measurement_value   | decimal   |\n",
    "| measurement_time    | datetime  |\n",
    "\n",
    "---\n",
    "\n",
    "### Example Input:\n",
    "\n",
    "| measurement_id | measurement_value | measurement_time       |\n",
    "|----------------|-------------------|------------------------|\n",
    "| 131233         | 1109.51           | 07/10/2022 09:00:00    |\n",
    "| 135211         | 1662.74           | 07/10/2022 11:00:00    |\n",
    "| 523542         | 1246.24           | 07/10/2022 13:15:00    |\n",
    "| 143562         | 1124.50           | 07/11/2022 15:00:00    |\n",
    "| 346462         | 1234.14           | 07/11/2022 16:45:00    |\n",
    "\n",
    "---\n",
    "\n",
    "### Example Output:\n",
    "\n",
    "| measurement_day       | odd_sum | even_sum |\n",
    "|-----------------------|---------|----------|\n",
    "| 07/10/2022 00:00:00   | 2355.75 | 1662.74  |\n",
    "| 07/11/2022 00:00:00   | 1124.50 | 1234.14  |\n",
    "\n",
    "---\n",
    "\n",
    "### Explanation:  \n",
    "On **07/10/2022**, the sum of the odd-numbered measurements (1st: 1109.51, 3rd: 1246.24) is **2355.75**, and the even-numbered measurement (2nd: 1662.74) totals **1662.74**.  \n",
    "On **07/11/2022**, the 1st and 2nd measurements are **1124.50** and **1234.14** respectively, giving the odd and even sums accordingly.\n"
   ]
  },
  {
   "cell_type": "code",
   "execution_count": 1,
   "id": "47461c7c",
   "metadata": {},
   "outputs": [
    {
     "name": "stdout",
     "output_type": "stream",
     "text": [
      "+--------------+-----------------+-------------------+\n",
      "|measurement_id|measurement_value|measurement_time   |\n",
      "+--------------+-----------------+-------------------+\n",
      "|131233        |1109.51          |2022-07-10 09:00:00|\n",
      "|135211        |1662.74          |2022-07-10 11:00:00|\n",
      "|523542        |1246.24          |2022-07-10 13:15:00|\n",
      "|143562        |1124.5           |2022-07-11 15:00:00|\n",
      "|346462        |1234.14          |2022-07-11 16:45:00|\n",
      "+--------------+-----------------+-------------------+\n",
      "\n"
     ]
    }
   ],
   "source": [
    "from pyspark.sql import SparkSession\n",
    "from pyspark.sql.types import StructType, StructField, IntegerType, DoubleType, TimestampType\n",
    "from pyspark.sql.functions import *\n",
    "from datetime import datetime\n",
    "\n",
    "# Initialize Spark session\n",
    "spark = SparkSession.builder.master('local[1]').appName(\"OddEvenMeasurements\").getOrCreate()\n",
    "\n",
    "# Define schema\n",
    "schema = StructType([\n",
    "    StructField(\"measurement_id\", IntegerType(), True),\n",
    "    StructField(\"measurement_value\", DoubleType(), True),\n",
    "    StructField(\"measurement_time\", TimestampType(), True)\n",
    "])\n",
    "\n",
    "# Sample data\n",
    "data = [\n",
    "    (131233, 1109.51, datetime.strptime(\"07/10/2022 09:00:00\", \"%m/%d/%Y %H:%M:%S\")),\n",
    "    (135211, 1662.74, datetime.strptime(\"07/10/2022 11:00:00\", \"%m/%d/%Y %H:%M:%S\")),\n",
    "    (523542, 1246.24, datetime.strptime(\"07/10/2022 13:15:00\", \"%m/%d/%Y %H:%M:%S\")),\n",
    "    (143562, 1124.50, datetime.strptime(\"07/11/2022 15:00:00\", \"%m/%d/%Y %H:%M:%S\")),\n",
    "    (346462, 1234.14, datetime.strptime(\"07/11/2022 16:45:00\", \"%m/%d/%Y %H:%M:%S\"))\n",
    "]\n",
    "\n",
    "# Create DataFrame\n",
    "df = spark.createDataFrame(data, schema)\n",
    "\n",
    "# Show the DataFrame\n",
    "df.show(truncate=False)\n"
   ]
  },
  {
   "cell_type": "code",
   "execution_count": 2,
   "id": "80c26f03",
   "metadata": {},
   "outputs": [
    {
     "name": "stdout",
     "output_type": "stream",
     "text": [
      "+---------------+-------+--------+\n",
      "|measurement_day|odd_sum|even_sum|\n",
      "+---------------+-------+--------+\n",
      "|     2022-07-10|2355.75| 1662.74|\n",
      "|     2022-07-11| 1124.5| 1234.14|\n",
      "+---------------+-------+--------+\n",
      "\n"
     ]
    }
   ],
   "source": [
    "from pyspark.sql.window import Window\n",
    "\n",
    "df\\\n",
    "    .withColumn('measurement_day',to_date('measurement_time'))\\\n",
    "    .withColumn('rnk',row_number().over(Window.partitionBy('measurement_day').orderBy('measurement_time')))\\\n",
    "    .groupBy('measurement_day')\\\n",
    "    .agg( sum(when(col('rnk')%2!=0,col('measurement_value'))).alias('odd_sum'),\n",
    "          sum(when(col('rnk')%2==0,col('measurement_value'))).alias('even_sum'))\\\n",
    "    .show()\n"
   ]
  },
  {
   "cell_type": "code",
   "execution_count": 3,
   "id": "f5be5b7b",
   "metadata": {},
   "outputs": [
    {
     "name": "stdout",
     "output_type": "stream",
     "text": [
      "+---------------+-------+--------+\n",
      "|measurement_day|odd_sum|even_sum|\n",
      "+---------------+-------+--------+\n",
      "|     2022-07-10|2355.75| 1662.74|\n",
      "|     2022-07-11| 1124.5| 1234.14|\n",
      "+---------------+-------+--------+\n",
      "\n"
     ]
    }
   ],
   "source": [
    "df.createOrReplaceTempView('measurements')\n",
    "\n",
    "spark.sql('''\n",
    "\n",
    "with cte as\n",
    "(SELECT \n",
    "measurement_value,\n",
    "CAST(measurement_time as date) as measurement_day,\n",
    "row_number() over(PARTITION BY CAST(measurement_time as date) \n",
    "                  order by measurement_time) as rnk\n",
    "FROM measurements)\n",
    "\n",
    "SELECT \n",
    "  measurement_day,\n",
    "  sum(case when rnk%2!=0 then measurement_value END) as odd_sum,\n",
    "  sum(case when rnk%2=0 then measurement_value END) as even_sum\n",
    "from cte\n",
    "GROUP BY measurement_day;''').show()"
   ]
  }
 ],
 "metadata": {
  "kernelspec": {
   "display_name": "Python 3",
   "language": "python",
   "name": "python3"
  },
  "language_info": {
   "codemirror_mode": {
    "name": "ipython",
    "version": 3
   },
   "file_extension": ".py",
   "mimetype": "text/x-python",
   "name": "python",
   "nbconvert_exporter": "python",
   "pygments_lexer": "ipython3",
   "version": "3.11.0"
  }
 },
 "nbformat": 4,
 "nbformat_minor": 5
}
