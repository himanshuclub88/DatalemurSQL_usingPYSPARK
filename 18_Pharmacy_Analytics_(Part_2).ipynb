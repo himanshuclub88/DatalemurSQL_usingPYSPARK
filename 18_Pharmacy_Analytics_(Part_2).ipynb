{
 "cells": [
  {
   "cell_type": "markdown",
   "id": "1c77669c",
   "metadata": {},
   "source": [
    "# Pharmacy Analytics (Part 2)\n",
    "\n",
    "## CVS Health SQL Interview Question\n",
    "\n",
    "### Question  \n",
    "CVS Health is analyzing its pharmacy sales data, and how well different products are selling in the market. Each drug is exclusively manufactured by a single manufacturer.\n",
    "\n",
    "Write a query to identify the manufacturers associated with the drugs that resulted in **losses** for CVS Health and calculate the total amount of losses incurred.\n",
    "\n",
    "Output the manufacturer's name, the **number of drugs** associated with losses, and the **total losses in absolute value**.  \n",
    "Display the results sorted in descending order with the highest losses displayed at the top.\n",
    "\n",
    "If you like this question, try out **Pharmacy Analytics (Part 3)!**\n",
    "\n",
    "---\n",
    "\n",
    "### `pharmacy_sales` Table:\n",
    "\n",
    "| Column Name    | Type      |\n",
    "|----------------|-----------|\n",
    "| product_id     | integer   |\n",
    "| units_sold     | integer   |\n",
    "| total_sales    | decimal   |\n",
    "| cogs           | decimal   |\n",
    "| manufacturer   | varchar   |\n",
    "| drug           | varchar   |\n",
    "\n",
    "---\n",
    "\n",
    "### Example Input:\n",
    "\n",
    "| product_id | units_sold | total_sales | cogs       | manufacturer | drug                          |\n",
    "|------------|------------|-------------|------------|--------------|-------------------------------|\n",
    "| 156        | 89514      | 3130097.00  | 3427421.73 | Biogen       | Acyclovir                     |\n",
    "| 25         | 222331     | 2753546.00  | 2974975.36 | AbbVie       | Lamivudine and Zidovudine     |\n",
    "| 50         | 90484      | 2521023.73  | 2742445.90 | Eli Lilly    | Dermasorb TA Complete Kit     |\n",
    "| 98         | 110746     | 813188.82   | 140422.87  | Biogen       | Medi-Chord                    |\n",
    "\n",
    "---\n",
    "\n",
    "### Example Output:\n",
    "\n",
    "| manufacturer | drug_count | total_loss |\n",
    "|--------------|------------|------------|\n",
    "| Biogen       | 1          | 297324.73  |\n",
    "| AbbVie       | 1          | 221429.36  |\n",
    "| Eli Lilly    | 1          | 221422.17  |\n",
    "\n",
    "---\n",
    "\n",
    "### Explanation:\n",
    "\n",
    "The first three rows indicate that some drugs resulted in losses. Among these, **Biogen** had the highest losses, followed by **AbbVie** and **Eli Lilly**.  \n",
    "However, the **Medi-Chord** drug manufactured by Biogen reported a **profit** and was excluded from the result.\n"
   ]
  },
  {
   "cell_type": "code",
   "execution_count": 5,
   "id": "1df7ea8c",
   "metadata": {},
   "outputs": [
    {
     "name": "stdout",
     "output_type": "stream",
     "text": [
      "+----------+----------+-----------+---------+------------+-------------------------+\n",
      "|product_id|units_sold|total_sales|cogs     |manufacturer|drug                     |\n",
      "+----------+----------+-----------+---------+------------+-------------------------+\n",
      "|156       |89514     |3130097.0  |3427421.8|Biogen      |Acyclovir                |\n",
      "|25        |222331    |2753546.0  |2974975.2|AbbVie      |Lamivudine and Zidovudine|\n",
      "|50        |90484     |2521023.8  |2742446.0|Eli Lilly   |Dermasorb TA Complete Kit|\n",
      "|98        |110746    |813188.8   |140422.88|Biogen      |Medi-Chord               |\n",
      "+----------+----------+-----------+---------+------------+-------------------------+\n",
      "\n"
     ]
    }
   ],
   "source": [
    "from pyspark.sql import SparkSession\n",
    "from pyspark.sql.types import *\n",
    "from pyspark.sql.functions import *\n",
    "# Create Spark session\n",
    "spark = SparkSession.builder.master('local[1]').appName(\"PharmacyAnalyticsPart2\").getOrCreate()\n",
    "\n",
    "# Define schema\n",
    "schema = StructType([\n",
    "    StructField(\"product_id\", IntegerType(), True),\n",
    "    StructField(\"units_sold\", IntegerType(), True),\n",
    "    StructField(\"total_sales\", FloatType(), True),\n",
    "    StructField(\"cogs\", FloatType(), True),\n",
    "    StructField(\"manufacturer\", StringType(), True),\n",
    "    StructField(\"drug\", StringType(), True),\n",
    "])\n",
    "\n",
    "# Sample data\n",
    "data = [\n",
    "    (156, 89514, 3130097.00, 3427421.73, \"Biogen\", \"Acyclovir\"),\n",
    "    (25, 222331, 2753546.00, 2974975.36, \"AbbVie\", \"Lamivudine and Zidovudine\"),\n",
    "    (50, 90484, 2521023.73, 2742445.90, \"Eli Lilly\", \"Dermasorb TA Complete Kit\"),\n",
    "    (98, 110746, 813188.82, 140422.87, \"Biogen\", \"Medi-Chord\"),\n",
    "]\n",
    "\n",
    "# Create DataFrame\n",
    "pharmacy_sales_df = spark.createDataFrame(data, schema)\n",
    "\n",
    "# Show DataFrame\n",
    "pharmacy_sales_df.show(truncate=False)\n"
   ]
  },
  {
   "cell_type": "code",
   "execution_count": 29,
   "id": "1ea12d80",
   "metadata": {},
   "outputs": [
    {
     "name": "stdout",
     "output_type": "stream",
     "text": [
      "+------------+----------+\n",
      "|manufacturer|total_loss|\n",
      "+------------+----------+\n",
      "|      Biogen| 297324.75|\n",
      "|      AbbVie| 221429.25|\n",
      "|   Eli Lilly| 221422.25|\n",
      "+------------+----------+\n",
      "\n"
     ]
    }
   ],
   "source": [
    "pharmacy_sales_df.where('total_sales<cogs')\\\n",
    "    .groupBy('manufacturer')\\\n",
    "    .agg(sum(col('cogs')-col('total_sales')).alias('total_loss'))\\\n",
    "    .orderBy('total_loss', ascending=0).show()"
   ]
  },
  {
   "cell_type": "code",
   "execution_count": 3,
   "id": "0f3ca10d",
   "metadata": {},
   "outputs": [
    {
     "name": "stdout",
     "output_type": "stream",
     "text": [
      "+------------+----------+----------+\n",
      "|manufacturer|drug_count|total_loss|\n",
      "+------------+----------+----------+\n",
      "|      Biogen|         1| 297324.75|\n",
      "|      AbbVie|         1| 221429.25|\n",
      "|   Eli Lilly|         1| 221422.25|\n",
      "+------------+----------+----------+\n",
      "\n"
     ]
    }
   ],
   "source": [
    "pharmacy_sales_df.createOrReplaceTempView('pharmacy_sales')\n",
    "\n",
    "spark.sql('''\n",
    "SELECT manufacturer,\n",
    "      count(product_id) as drug_count,\n",
    "      sum(cogs-total_sales) as total_loss\n",
    "FROM pharmacy_sales\n",
    "where total_sales<cogs\n",
    "group by manufacturer\n",
    "ORDER BY total_loss DESC\n",
    "''').show()"
   ]
  }
 ],
 "metadata": {
  "kernelspec": {
   "display_name": "Python 3",
   "language": "python",
   "name": "python3"
  },
  "language_info": {
   "codemirror_mode": {
    "name": "ipython",
    "version": 3
   },
   "file_extension": ".py",
   "mimetype": "text/x-python",
   "name": "python",
   "nbconvert_exporter": "python",
   "pygments_lexer": "ipython3",
   "version": "3.11.0"
  }
 },
 "nbformat": 4,
 "nbformat_minor": 5
}
