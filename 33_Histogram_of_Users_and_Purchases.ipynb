{
 "cells": [
  {
   "cell_type": "markdown",
   "metadata": {},
   "source": [
    "# Histogram of Users and Purchases\n",
    "**Walmart SQL Interview Question**\n",
    "\n",
    "### Question\n",
    "Assume you're given a table on Walmart user transactions. Based on their most recent transaction date, write a query that retrieves the users along with the number of products they bought.\n",
    "\n",
    "Output the user's most recent transaction date, user ID, and the number of products, sorted in chronological order by the transaction date.\n",
    "\n",
    "### user_transactions Table:\n",
    "| Column Name      | Type       |\n",
    "|------------------|------------|\n",
    "| product_id       | integer    |\n",
    "| user_id          | integer    |\n",
    "| spend            | decimal    |\n",
    "| transaction_date | timestamp  |\n",
    "\n",
    "### user_transactions Example Input:\n",
    "| product_id | user_id | spend   | transaction_date       |\n",
    "|------------|---------|---------|------------------------|\n",
    "| 3673       | 123     | 68.90   | 07/08/2022 12:00:00    |\n",
    "| 9623       | 123     | 274.10  | 07/08/2022 12:00:00    |\n",
    "| 1467       | 115     | 19.90   | 07/08/2022 12:00:00    |\n",
    "| 2513       | 159     | 25.00   | 07/08/2022 12:00:00    |\n",
    "| 1452       | 159     | 74.50   | 07/10/2022 12:00:00    |\n",
    "\n",
    "### Example Output:\n",
    "| transaction_date        | user_id | purchase_count |\n",
    "|-------------------------|---------|----------------|\n",
    "| 07/08/2022 12:00:00     | 115     | 1              |\n",
    "| 07/08/2022 12:00:00     | 123     | 2              |\n",
    "| 07/10/2022 12:00:00     | 159     | 1              |\n",
    "\n",
    "### Explanation:\n",
    "- User 115 made 1 purchase on 07/08/2022.\n",
    "- User 123 made 2 purchases on 07/08/2022.\n",
    "- User 159 made 1 purchase on 07/10/2022.\n"
   ]
  },
  {
   "cell_type": "code",
   "execution_count": 6,
   "metadata": {},
   "outputs": [
    {
     "name": "stdout",
     "output_type": "stream",
     "text": [
      "+----------+-------+-----+-------------------+\n",
      "|product_id|user_id|spend|transaction_date   |\n",
      "+----------+-------+-----+-------------------+\n",
      "|3673      |123    |68.9 |2022-07-08 12:00:00|\n",
      "|9623      |123    |274.1|2022-07-08 12:00:00|\n",
      "|1467      |115    |19.9 |2022-07-08 12:00:00|\n",
      "|2513      |159    |25.0 |2022-07-08 12:00:00|\n",
      "|1452      |159    |74.5 |2022-07-10 12:00:00|\n",
      "+----------+-------+-----+-------------------+\n",
      "\n"
     ]
    }
   ],
   "source": [
    "from pyspark.sql import SparkSession\n",
    "from pyspark.sql.functions import *\n",
    "from pyspark.sql.types import *\n",
    "from datetime import datetime\n",
    "\n",
    "# Initialize Spark session\n",
    "spark = SparkSession.builder.master('local[1]').appName(\"WalmartUserTransactions\").getOrCreate()\n",
    "\n",
    "# Define the data\n",
    "data = [\n",
    "    (3673, 123, 68.90, datetime(2022, 7, 8, 12, 0, 0)),\n",
    "    (9623, 123, 274.10, datetime(2022, 7, 8, 12, 0, 0)),\n",
    "    (1467, 115, 19.90, datetime(2022, 7, 8, 12, 0, 0)),\n",
    "    (2513, 159, 25.00, datetime(2022, 7, 8, 12, 0, 0)),\n",
    "    (1452, 159, 74.50, datetime(2022, 7, 10, 12, 0, 0))\n",
    "]\n",
    "\n",
    "# Define the column names\n",
    "columns = ['product_id', 'user_id', 'spend', 'transaction_date']\n",
    "\n",
    "# Create the DataFrame\n",
    "df = spark.createDataFrame(data, columns)\n",
    "\n",
    "# Show the DataFrame\n",
    "df.show(truncate=False)\n"
   ]
  },
  {
   "cell_type": "code",
   "execution_count": 19,
   "metadata": {},
   "outputs": [
    {
     "name": "stdout",
     "output_type": "stream",
     "text": [
      "+-------------------+-------+--------------+\n",
      "|   transaction_date|user_id|purchase_count|\n",
      "+-------------------+-------+--------------+\n",
      "|2022-07-08 12:00:00|    115|             1|\n",
      "|2022-07-08 12:00:00|    123|             2|\n",
      "|2022-07-10 12:00:00|    159|             1|\n",
      "+-------------------+-------+--------------+\n",
      "\n"
     ]
    }
   ],
   "source": [
    "from pyspark.sql.window import Window\n",
    "winspec= Window.partitionBy('user_id').orderBy(col('transaction_date').desc())\n",
    "df\\\n",
    "    .withColumn('rnk', rank().over(winspec))\\\n",
    "    .where('rnk=1')\\\n",
    "    .groupBy('transaction_date','user_id')\\\n",
    "    .agg(count('product_id').alias('purchase_count'))\\\n",
    "    .show()"
   ]
  },
  {
   "cell_type": "code",
   "execution_count": 7,
   "metadata": {},
   "outputs": [
    {
     "name": "stdout",
     "output_type": "stream",
     "text": [
      "+-------------------+-------+--------------+\n",
      "|   transaction_date|user_id|purchase_count|\n",
      "+-------------------+-------+--------------+\n",
      "|2022-07-08 12:00:00|    115|             1|\n",
      "|2022-07-08 12:00:00|    123|             2|\n",
      "|2022-07-10 12:00:00|    159|             1|\n",
      "+-------------------+-------+--------------+\n",
      "\n"
     ]
    }
   ],
   "source": [
    "df.createOrReplaceTempView('user_transactions')\n",
    "spark.sql(\"\"\"\n",
    "with cte as (SELECT *,\n",
    "rank() OVER(partition by user_id order by transaction_date desc) as rnk\n",
    "FROM user_transactions)\n",
    "\n",
    "select \n",
    "transaction_date,\n",
    "user_id,\n",
    "count(product_id) as purchase_count\n",
    "from cte\n",
    "where rnk =1\n",
    "GROUP BY 1,2\n",
    "ORDER by 1\n",
    "\"\"\").show()"
   ]
  }
 ],
 "metadata": {
  "kernelspec": {
   "display_name": "Python 3",
   "language": "python",
   "name": "python3"
  },
  "language_info": {
   "codemirror_mode": {
    "name": "ipython",
    "version": 3
   },
   "file_extension": ".py",
   "mimetype": "text/x-python",
   "name": "python",
   "nbconvert_exporter": "python",
   "pygments_lexer": "ipython3",
   "version": "3.11.0"
  }
 },
 "nbformat": 4,
 "nbformat_minor": 2
}
