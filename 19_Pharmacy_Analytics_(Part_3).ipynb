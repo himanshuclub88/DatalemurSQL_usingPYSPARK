{
 "cells": [
  {
   "cell_type": "markdown",
   "id": "36fda696",
   "metadata": {},
   "source": [
    "# Pharmacy Analytics (Part 3)\n",
    "\n",
    "## CVS Health SQL Interview Question\n",
    "\n",
    "### Question  \n",
    "CVS Health wants to gain a clearer understanding of its pharmacy sales and the performance of various products.\n",
    "\n",
    "Write a query to calculate the total drug sales for each manufacturer.  \n",
    "Round the answer to the **nearest million** and report your results in **descending order** of total sales.  \n",
    "In case of any duplicates, sort them **alphabetically by the manufacturer name**.\n",
    "\n",
    "Since this data will be displayed on a dashboard viewed by business stakeholders, please format your results as follows:  \n",
    "**`\"$36 million\"`**\n",
    "\n",
    "If you like this question, try out **Pharmacy Analytics (Part 4)!**\n",
    "\n",
    "---\n",
    "\n",
    "### `pharmacy_sales` Table:\n",
    "\n",
    "| Column Name    | Type      |\n",
    "|----------------|-----------|\n",
    "| product_id     | integer   |\n",
    "| units_sold     | integer   |\n",
    "| total_sales    | decimal   |\n",
    "| cogs           | decimal   |\n",
    "| manufacturer   | varchar   |\n",
    "| drug           | varchar   |\n",
    "\n",
    "---\n",
    "\n",
    "### Example Input:\n",
    "\n",
    "| product_id | units_sold | total_sales | cogs       | manufacturer | drug             |\n",
    "|------------|------------|-------------|------------|--------------|------------------|\n",
    "| 94         | 132362     | 2041758.41  | 1373721.70 | Biogen       | UP and UP        |\n",
    "| 9          | 37410      | 293452.54   | 208876.01  | Eli Lilly    | Zyprexa          |\n",
    "| 50         | 90484      | 2521023.73  | 2742445.90 | Eli Lilly    | Dermasorb        |\n",
    "| 61         | 77023      | 500101.61   | 419174.97  | Biogen       | Varicose Relief  |\n",
    "| 136        | 144814     | 1084258.00  | 1006447.73 | Biogen       | Burkhart         |\n",
    "\n",
    "---\n",
    "\n",
    "### Example Output:\n",
    "\n",
    "| manufacturer | sale       |\n",
    "|--------------|------------|\n",
    "| Biogen       | $4 million |\n",
    "| Eli Lilly    | $3 million |\n",
    "\n",
    "---\n",
    "\n",
    "### Explanation:\n",
    "\n",
    "The total sales for **Biogen** is about **$4 million**:  \n",
    "$2,041,758.41 + $500,101.61 + $1,084,258.00 = $3,626,118.02 → rounded to **$4 million**\n",
    "\n",
    "The total sales for **Eli Lilly** is about **$3 million**:  \n",
    "$293,452.54 + $2,521,023.73 = $2,814,476.27 → rounded to **$3 million**\n"
   ]
  },
  {
   "cell_type": "code",
   "execution_count": 4,
   "id": "9677e30f",
   "metadata": {},
   "outputs": [
    {
     "name": "stdout",
     "output_type": "stream",
     "text": [
      "+----------+----------+-----------+----------+------------+---------------+\n",
      "|product_id|units_sold|total_sales|cogs      |manufacturer|drug           |\n",
      "+----------+----------+-----------+----------+------------+---------------+\n",
      "|94        |132362    |2041758.4  |1373721.8 |Biogen      |UP and UP      |\n",
      "|9         |37410     |293452.53  |208876.02 |Eli Lilly   |Zyprexa        |\n",
      "|50        |90484     |2521023.8  |2742446.0 |Eli Lilly   |Dermasorb      |\n",
      "|61        |77023     |500101.62  |419174.97 |Biogen      |Varicose Relief|\n",
      "|136       |144814    |1084258.0  |1006447.75|Biogen      |Burkhart       |\n",
      "+----------+----------+-----------+----------+------------+---------------+\n",
      "\n"
     ]
    }
   ],
   "source": [
    "from pyspark.sql import SparkSession\n",
    "from pyspark.sql.types import *\n",
    "from pyspark.sql.functions import *\n",
    "\n",
    "# Initialize Spark session\n",
    "spark = SparkSession.builder.master('local[1]').appName(\"PharmacyAnalyticsPart3\").getOrCreate()\n",
    "\n",
    "# Define the schema\n",
    "schema = StructType([\n",
    "    StructField(\"product_id\", IntegerType(), True),\n",
    "    StructField(\"units_sold\", IntegerType(), True),\n",
    "    StructField(\"total_sales\", FloatType(), True),\n",
    "    StructField(\"cogs\", FloatType(), True),\n",
    "    StructField(\"manufacturer\", StringType(), True),\n",
    "    StructField(\"drug\", StringType(), True),\n",
    "])\n",
    "\n",
    "# Example input data\n",
    "data = [\n",
    "    (94, 132362, 2041758.41, 1373721.70, \"Biogen\", \"UP and UP\"),\n",
    "    (9, 37410, 293452.54, 208876.01, \"Eli Lilly\", \"Zyprexa\"),\n",
    "    (50, 90484, 2521023.73, 2742445.90, \"Eli Lilly\", \"Dermasorb\"),\n",
    "    (61, 77023, 500101.61, 419174.97, \"Biogen\", \"Varicose Relief\"),\n",
    "    (136, 144814, 1084258.00, 1006447.73, \"Biogen\", \"Burkhart\"),\n",
    "]\n",
    "\n",
    "# Create the DataFrame\n",
    "pharmacy_sales_df = spark.createDataFrame(data, schema)\n",
    "\n",
    "# Show the DataFrame\n",
    "pharmacy_sales_df.show(truncate=False)\n"
   ]
  },
  {
   "cell_type": "code",
   "execution_count": 25,
   "id": "04e34093",
   "metadata": {},
   "outputs": [
    {
     "name": "stdout",
     "output_type": "stream",
     "text": [
      "+------------+----------+\n",
      "|manufacturer|      sale|\n",
      "+------------+----------+\n",
      "|      Biogen|$4 million|\n",
      "|   Eli Lilly|$3 million|\n",
      "+------------+----------+\n",
      "\n"
     ]
    }
   ],
   "source": [
    "pharmacy_sales_df.groupBy('manufacturer')\\\n",
    "    .agg(concat(lit('$'), round(sum('total_sales')/1000000).cast('int'), lit(' million')).alias('sale'))\\\n",
    "    .orderBy(sum('total_sales'),'manufacturer',ascending=[0,1]).show()"
   ]
  },
  {
   "cell_type": "code",
   "execution_count": 24,
   "id": "a27641b7",
   "metadata": {},
   "outputs": [
    {
     "name": "stdout",
     "output_type": "stream",
     "text": [
      "+------------+----------+\n",
      "|manufacturer|      sale|\n",
      "+------------+----------+\n",
      "|      Biogen|$4 million|\n",
      "|   Eli Lilly|$3 million|\n",
      "+------------+----------+\n",
      "\n"
     ]
    }
   ],
   "source": [
    "pharmacy_sales_df.createOrReplaceTempView('pharmacy_sales')\n",
    "\n",
    "spark.sql('''\n",
    "SELECT\n",
    "  manufacturer,CONCAT('$', cast(round(sum(total_sales)/1000000) as INT), ' million') as sale\n",
    "FROM pharmacy_sales\n",
    "GROUP BY manufacturer\n",
    "ORDER BY sum(total_sales) DESC, manufacturer ASC;\n",
    "''').show()"
   ]
  }
 ],
 "metadata": {
  "kernelspec": {
   "display_name": "Python 3",
   "language": "python",
   "name": "python3"
  },
  "language_info": {
   "codemirror_mode": {
    "name": "ipython",
    "version": 3
   },
   "file_extension": ".py",
   "mimetype": "text/x-python",
   "name": "python",
   "nbconvert_exporter": "python",
   "pygments_lexer": "ipython3",
   "version": "3.11.0"
  }
 },
 "nbformat": 4,
 "nbformat_minor": 5
}
