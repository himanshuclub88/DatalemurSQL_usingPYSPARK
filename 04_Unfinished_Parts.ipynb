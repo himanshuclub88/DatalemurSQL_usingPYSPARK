{
 "cells": [
  {
   "cell_type": "markdown",
   "metadata": {},
   "source": [
    "# Unfinished Parts\n",
    "\n",
    "## Tesla SQL Interview Question\n",
    "\n",
    "### Question\n",
    "\n",
    "Tesla is investigating production bottlenecks and they need your help to extract the relevant data.  \n",
    "Write a query to determine which parts have begun the assembly process but are not yet finished.\n",
    "\n",
    "---\n",
    "\n",
    "### Assumptions:\n",
    "\n",
    "- `parts_assembly` table contains all parts currently in production, each at varying stages of the assembly process.\n",
    "- An unfinished part is one that lacks a `finish_date`.\n",
    "\n",
    "This question is straightforward, so let's approach it with simplicity in both thinking and solution.\n",
    "\n",
    "---\n",
    "\n",
    "### Table: `parts_assembly`\n",
    "\n",
    "| Column Name    | Type     |\n",
    "|----------------|----------|\n",
    "| part           | string   |\n",
    "| finish_date    | datetime |\n",
    "| assembly_step  | integer  |\n",
    "\n",
    "---\n",
    "\n",
    "### Example Input for `parts_assembly` Table:\n",
    "\n",
    "| part    | finish_date           | assembly_step |\n",
    "|---------|-----------------------|---------------|\n",
    "| battery | 01/22/2022 00:00:00   | 1             |\n",
    "| battery | 02/22/2022 00:00:00   | 2             |\n",
    "| battery | 03/22/2022 00:00:00   | 3             |\n",
    "| bumper  | 01/22/2022 00:00:00   | 1             |\n",
    "| bumper  | 02/22/2022 00:00:00   | 2             |\n",
    "| bumper  | NULL                  | 3             |\n",
    "| bumper  | NULL                  | 4             |\n",
    "\n",
    "---\n",
    "\n",
    "### Example Output:\n",
    "\n",
    "| part   | assembly_step |\n",
    "|--------|---------------|\n",
    "| bumper | 3             |\n",
    "| bumper | 4             |\n",
    "\n",
    "---\n",
    "\n",
    "### Explanation\n",
    "\n",
    "The bumpers in **step 3** and **step 4** are the only items that remain unfinished, as they lack a recorded `finish_date`.\n"
   ]
  },
  {
   "cell_type": "code",
   "execution_count": 2,
   "metadata": {},
   "outputs": [
    {
     "name": "stdout",
     "output_type": "stream",
     "text": [
      "+-------+-------------------+-------------+\n",
      "|part   |finish_date        |assembly_step|\n",
      "+-------+-------------------+-------------+\n",
      "|battery|2022-01-22 00:00:00|1            |\n",
      "|battery|2022-02-22 00:00:00|2            |\n",
      "|battery|2022-03-22 00:00:00|3            |\n",
      "|bumper |2022-01-22 00:00:00|1            |\n",
      "|bumper |2022-02-22 00:00:00|2            |\n",
      "|bumper |NULL               |3            |\n",
      "|bumper |NULL               |4            |\n",
      "+-------+-------------------+-------------+\n",
      "\n"
     ]
    }
   ],
   "source": [
    "from pyspark.sql import SparkSession\n",
    "from pyspark.sql.types import StructType, StructField, StringType, IntegerType, TimestampType\n",
    "from pyspark.sql.functions import *\n",
    "from datetime import datetime\n",
    "\n",
    "# Create Spark session\n",
    "spark = SparkSession.builder.master('local[1]').appName(\"UnfinishedPartss\").getOrCreate()\n",
    "\n",
    "# Define the schema for parts_assembly table\n",
    "schema = StructType([\n",
    "    StructField(\"part\", StringType(), True),\n",
    "    StructField(\"finish_date\", TimestampType(), True),\n",
    "    StructField(\"assembly_step\", IntegerType(), True)\n",
    "])\n",
    "\n",
    "# Define the data for parts_assembly table\n",
    "data = [\n",
    "    (\"battery\", datetime(2022, 1, 22, 0, 0), 1),\n",
    "    (\"battery\", datetime(2022, 2, 22, 0, 0), 2),\n",
    "    (\"battery\", datetime(2022, 3, 22, 0, 0), 3),\n",
    "    (\"bumper\", datetime(2022, 1, 22, 0, 0), 1),\n",
    "    (\"bumper\", datetime(2022, 2, 22, 0, 0), 2),\n",
    "    (\"bumper\", None, 3),\n",
    "    (\"bumper\", None, 4)\n",
    "]\n",
    "\n",
    "# Create the Spark DataFrame\n",
    "parts_assembly_df = spark.createDataFrame(data, schema=schema)\n",
    "\n",
    "# Show the DataFrame\n",
    "parts_assembly_df.show(truncate=False)\n",
    "\n",
    "\n"
   ]
  },
  {
   "cell_type": "code",
   "execution_count": 3,
   "metadata": {},
   "outputs": [
    {
     "name": "stdout",
     "output_type": "stream",
     "text": [
      "+------+-------------+\n",
      "|  part|assembly_step|\n",
      "+------+-------------+\n",
      "|bumper|            3|\n",
      "|bumper|            4|\n",
      "+------+-------------+\n",
      "\n"
     ]
    }
   ],
   "source": [
    "parts_assembly_df\\\n",
    "    .where(col('finish_date').isNull())\\\n",
    "    .select( 'part', 'assembly_step')\\\n",
    "    .show()"
   ]
  },
  {
   "cell_type": "code",
   "execution_count": 14,
   "metadata": {},
   "outputs": [
    {
     "name": "stdout",
     "output_type": "stream",
     "text": [
      "+------+-------------+\n",
      "|  part|assembly_step|\n",
      "+------+-------------+\n",
      "|bumper|            3|\n",
      "|bumper|            4|\n",
      "+------+-------------+\n",
      "\n"
     ]
    }
   ],
   "source": [
    "parts_assembly_df.createOrReplaceTempView('parts_assembly')\n",
    "\n",
    "spark.sql(\n",
    "'''\n",
    "SELECT part,assembly_step FROM parts_assembly\n",
    "where finish_date is NULL;\n",
    "'''\n",
    ").show()"
   ]
  },
  {
   "cell_type": "code",
   "execution_count": 15,
   "metadata": {},
   "outputs": [
    {
     "name": "stdout",
     "output_type": "stream",
     "text": [
      "+------+-------------+\n",
      "|  part|assembly_step|\n",
      "+------+-------------+\n",
      "|bumper|            3|\n",
      "|bumper|            4|\n",
      "+------+-------------+\n",
      "\n"
     ]
    }
   ],
   "source": [
    "%%sql\n",
    "\n",
    "SELECT part,assembly_step FROM parts_assembly\n",
    "where finish_date is NULL;"
   ]
  }
 ],
 "metadata": {
  "kernelspec": {
   "display_name": "Python 3",
   "language": "python",
   "name": "python3"
  },
  "language_info": {
   "codemirror_mode": {
    "name": "ipython",
    "version": 3
   },
   "file_extension": ".py",
   "mimetype": "text/x-python",
   "name": "python",
   "nbconvert_exporter": "python",
   "pygments_lexer": "ipython3",
   "version": "3.11.0"
  }
 },
 "nbformat": 4,
 "nbformat_minor": 2
}
