{
 "cells": [
  {
   "cell_type": "markdown",
   "metadata": {},
   "source": [
    "## Compressed Mode\n",
    "### Alibaba SQL Interview Question\n",
    "\n",
    "#### Question\n",
    "\n",
    "You're given a table containing the item count for each order on Alibaba, along with the frequency of orders that have the same item count. Write a query to retrieve the mode of the order occurrences. Additionally, if there are multiple item counts with the same mode, the results should be sorted in ascending order.\n",
    "\n",
    "**Clarifications:**\n",
    "- `item_count`: Represents the number of items sold in each order.\n",
    "- `order_occurrences`: Represents the frequency of orders with the corresponding number of items sold per order.\n",
    "\n",
    "For example, if there are 800 orders with 3 items sold in each order, the record would have an `item_count` of 3 and an `order_occurrences` of 800.\n",
    "\n",
    "**Effective June 14th, 2023**, the problem statement has been revised and additional clarification have been added for clarity.\n",
    "\n",
    "#### items_per_order Table:\n",
    "| Column Name        | Type    |\n",
    "|--------------------|---------|\n",
    "| item_count         | integer |\n",
    "| order_occurrences  | integer |\n",
    "\n",
    "#### Example Input:\n",
    "| item_count | order_occurrences |\n",
    "|------------|-------------------|\n",
    "| 1          | 500               |\n",
    "| 2          | 1000              |\n",
    "| 3          | 800               |\n",
    "\n",
    "#### Example Output:\n",
    "| mode |\n",
    "|------|\n",
    "| 2    |\n",
    "\n",
    "**Explanation**:\n",
    "Based on the example output, the `order_occurrences` value of 1000 corresponds to the highest frequency among all item counts. This means that item count of 2 has occurred 1000 times, making it the mode of order occurrences.\n"
   ]
  },
  {
   "cell_type": "code",
   "execution_count": 2,
   "metadata": {},
   "outputs": [
    {
     "name": "stdout",
     "output_type": "stream",
     "text": [
      "+----------+-----------------+\n",
      "|item_count|order_occurrences|\n",
      "+----------+-----------------+\n",
      "|         1|              500|\n",
      "|         2|             1000|\n",
      "|         3|              800|\n",
      "+----------+-----------------+\n",
      "\n"
     ]
    }
   ],
   "source": [
    "from pyspark.sql import SparkSession\n",
    "from pyspark.sql.functions import *\n",
    "from pyspark.sql.types import *\n",
    "\n",
    "# Initialize Spark session\n",
    "spark = SparkSession.builder.master(\"local[1]\").appName(\"Compressed Mode\").getOrCreate()\n",
    "\n",
    "# Define the data\n",
    "data = [\n",
    "    (1, 500),\n",
    "    (2, 1000),\n",
    "    (3, 800)\n",
    "]\n",
    "\n",
    "# Define the column names\n",
    "columns = ['item_count', 'order_occurrences']\n",
    "\n",
    "# Create a DataFrame\n",
    "df = spark.createDataFrame(data, columns)\n",
    "\n",
    "# Show the result\n",
    "df.show()\n"
   ]
  },
  {
   "cell_type": "code",
   "execution_count": 13,
   "metadata": {},
   "outputs": [
    {
     "name": "stdout",
     "output_type": "stream",
     "text": [
      "+----+\n",
      "|mode|\n",
      "+----+\n",
      "|   2|\n",
      "+----+\n",
      "\n"
     ]
    }
   ],
   "source": [
    "x=df.agg(max('order_occurrences')).collect()[0][0]\n",
    "x\n",
    "df.select(col('item_count').alias('mode'))\\\n",
    "  .where(col('order_occurrences')==x).show()"
   ]
  },
  {
   "cell_type": "code",
   "execution_count": null,
   "metadata": {},
   "outputs": [
    {
     "name": "stdout",
     "output_type": "stream",
     "text": [
      "+----+\n",
      "|mode|\n",
      "+----+\n",
      "|   2|\n",
      "+----+\n",
      "\n"
     ]
    }
   ],
   "source": [
    "df.createOrReplaceTempView('items_per_order')\n",
    "spark.sql(\"\"\"\n",
    "SELECT item_count as mode \n",
    "from items_per_order \n",
    "where order_occurrences = (SELECT max(order_occurrences) FROM items_per_order)\n",
    "order by 1;\n",
    "\"\"\").show()"
   ]
  }
 ],
 "metadata": {
  "kernelspec": {
   "display_name": "Python 3",
   "language": "python",
   "name": "python3"
  },
  "language_info": {
   "codemirror_mode": {
    "name": "ipython",
    "version": 3
   },
   "file_extension": ".py",
   "mimetype": "text/x-python",
   "name": "python",
   "nbconvert_exporter": "python",
   "pygments_lexer": "ipython3",
   "version": "3.11.0"
  }
 },
 "nbformat": 4,
 "nbformat_minor": 2
}
