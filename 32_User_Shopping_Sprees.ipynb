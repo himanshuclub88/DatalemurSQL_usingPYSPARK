{
 "cells": [
  {
   "cell_type": "markdown",
   "metadata": {},
   "source": [
    "# User Shopping Sprees\n",
    "**Amazon SQL Interview Question**\n",
    "\n",
    "### Question\n",
    "In an effort to identify high-value customers, Amazon asked for your help to obtain data about users who go on shopping sprees. A shopping spree occurs when a user makes purchases on 3 or more consecutive days.\n",
    "\n",
    "List the user IDs who have gone on at least 1 shopping spree in ascending order.\n",
    "\n",
    "### transactions Table:\n",
    "| Column Name       | Type      |\n",
    "|-------------------|-----------|\n",
    "| user_id           | integer   |\n",
    "| amount            | float     |\n",
    "| transaction_date  | timestamp |\n",
    "\n",
    "### transactions Example Input:\n",
    "| user_id | amount  | transaction_date        |\n",
    "|---------|---------|-------------------------|\n",
    "| 1       | 9.99    | 08/01/2022 10:00:00     |\n",
    "| 1       | 55      | 08/17/2022 10:00:00     |\n",
    "| 2       | 149.5   | 08/05/2022 10:00:00     |\n",
    "| 2       | 4.89    | 08/06/2022 10:00:00     |\n",
    "| 2       | 34      | 08/07/2022 10:00:00     |\n",
    "\n",
    "### Example Output:\n",
    "| user_id |\n",
    "|---------|\n",
    "| 2       |\n",
    "\n",
    "### Explanation:\n",
    "In this example, user_id 2 is the only one who has gone on a shopping spree.\n"
   ]
  },
  {
   "cell_type": "code",
   "execution_count": 4,
   "metadata": {},
   "outputs": [
    {
     "name": "stdout",
     "output_type": "stream",
     "text": [
      "+-------+------+----------------+\n",
      "|user_id|amount|transaction_date|\n",
      "+-------+------+----------------+\n",
      "|1      |9.99  |2022-08-01      |\n",
      "|1      |55.0  |2022-08-17      |\n",
      "|2      |149.5 |2022-08-05      |\n",
      "|2      |4.89  |2022-08-06      |\n",
      "|2      |34.0  |2022-08-07      |\n",
      "+-------+------+----------------+\n",
      "\n"
     ]
    }
   ],
   "source": [
    "from pyspark.sql import SparkSession\n",
    "from pyspark.sql.types import StructType, StructField, IntegerType, FloatType, TimestampType\n",
    "from pyspark.sql.functions import *\n",
    "from datetime import datetime\n",
    "\n",
    "# Create Spark session\n",
    "spark = SparkSession.builder.master('local[1]').appName(\"UserShoppingSprees\").getOrCreate()\n",
    "\n",
    "# Define the schema for transactions table\n",
    "schema = StructType([\n",
    "    StructField(\"user_id\", IntegerType(), True),\n",
    "    StructField(\"amount\", FloatType(), True),\n",
    "    StructField(\"transaction_date\", TimestampType(), True)\n",
    "])\n",
    "\n",
    "# Define the data for transactions table with datetime objects\n",
    "data = [\n",
    "    (1, 9.99, datetime.strptime(\"2022-08-01 10:00:00\", \"%Y-%m-%d %H:%M:%S\")),\n",
    "    (1, 55.00, datetime.strptime(\"2022-08-17 10:00:00\", \"%Y-%m-%d %H:%M:%S\")),\n",
    "    (2, 149.5, datetime.strptime(\"2022-08-05 10:00:00\", \"%Y-%m-%d %H:%M:%S\")),\n",
    "    (2, 4.89, datetime.strptime(\"2022-08-06 10:00:00\", \"%Y-%m-%d %H:%M:%S\")),\n",
    "    (2, 34.00, datetime.strptime(\"2022-08-07 10:00:00\", \"%Y-%m-%d %H:%M:%S\"))\n",
    "]\n",
    "\n",
    "\n",
    "\n",
    "# Create the Spark DataFrame\n",
    "transactions_df = spark.createDataFrame(data, schema=schema)\n",
    "transactions_df = transactions_df.withColumn(\"transaction_date\", to_date(\"transaction_date\"))\n",
    "# Show the DataFrame\n",
    "transactions_df.show(truncate=False)\n",
    "\n"
   ]
  },
  {
   "cell_type": "code",
   "execution_count": 5,
   "metadata": {},
   "outputs": [
    {
     "name": "stdout",
     "output_type": "stream",
     "text": [
      "+-------+\n",
      "|user_id|\n",
      "+-------+\n",
      "|      2|\n",
      "+-------+\n",
      "\n"
     ]
    }
   ],
   "source": [
    "transactions_df.alias('t1').join(\n",
    "    transactions_df.alias('t2'),\n",
    "    (col('t1.user_id')==col('t2.user_id')) & (col('t1.transaction_date')==date_add(col('t2.transaction_date'),1)),\n",
    "    'inner')\\\n",
    "    .join(transactions_df.alias('t3'),\n",
    "          (col('t1.user_id')==col('t3.user_id')) & (col('t1.transaction_date')==date_add(col('t3.transaction_date'),2)),\n",
    "    'inner')\\\n",
    "    .select('t1.user_id')\\\n",
    "    .orderBy('user_id')\\\n",
    "    .show()"
   ]
  },
  {
   "cell_type": "code",
   "execution_count": 6,
   "metadata": {},
   "outputs": [
    {
     "name": "stdout",
     "output_type": "stream",
     "text": [
      "+-------+\n",
      "|user_id|\n",
      "+-------+\n",
      "|      2|\n",
      "+-------+\n",
      "\n"
     ]
    }
   ],
   "source": [
    "transactions_df.createOrReplaceTempView('transactions')\n",
    "\n",
    "spark.sql(\n",
    "    \"\"\"\n",
    "    SELECT t1.user_id\n",
    "\n",
    "FROM transactions t1 \n",
    "\n",
    "JOIN transactions t2\n",
    "  on t1.user_id=t2.user_id AND\n",
    "  date(t1.transaction_date)=date(t2.transaction_date)+1\n",
    "  \n",
    "JOIN transactions t3\n",
    "  on t1.user_id=t3.user_id AND\n",
    "  date(t1.transaction_date)=date(t3.transaction_date)+2\n",
    "  \"\"\"\n",
    ").show()"
   ]
  }
 ],
 "metadata": {
  "kernelspec": {
   "display_name": "Python 3",
   "language": "python",
   "name": "python3"
  },
  "language_info": {
   "codemirror_mode": {
    "name": "ipython",
    "version": 3
   },
   "file_extension": ".py",
   "mimetype": "text/x-python",
   "name": "python",
   "nbconvert_exporter": "python",
   "pygments_lexer": "ipython3",
   "version": "3.11.0"
  }
 },
 "nbformat": 4,
 "nbformat_minor": 2
}
