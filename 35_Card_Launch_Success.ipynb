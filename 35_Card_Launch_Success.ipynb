{
 "cells": [
  {
   "cell_type": "markdown",
   "metadata": {
    "id": "f1XeyjQT3Zus"
   },
   "source": [
    "# Card Launch Success\n",
    "### JPMorgan SQL Interview Question\n",
    "\n",
    "#### Question\n",
    "Your team at JPMorgan Chase is soon launching a new credit card. You are asked to estimate how many cards you'll issue in the first month.\n",
    "\n",
    "Before you can answer this question, you want to first get some perspective on how well new credit card launches typically do in their first month.\n",
    "\n",
    "Write a query that outputs the name of the credit card, and how many cards were issued in its launch month. The launch month is the earliest record in the `monthly_cards_issued` table for a given card. Order the results starting from the biggest issued amount.\n",
    "\n",
    "#### monthly_cards_issued Table:\n",
    "| Column Name     | Type  |\n",
    "|-----------------|-------|\n",
    "| issue_month     | integer |\n",
    "| issue_year      | integer |\n",
    "| card_name       | string  |\n",
    "| issued_amount   | integer |\n",
    "\n",
    "#### Example Input:\n",
    "\n",
    "| issue_month | issue_year | card_name              | issued_amount |\n",
    "|-------------|------------|------------------------|---------------|\n",
    "| 1           | 2021       | Chase Sapphire Reserve | 170000        |\n",
    "| 2           | 2021       | Chase Sapphire Reserve | 175000        |\n",
    "| 3           | 2021       | Chase Sapphire Reserve | 180000        |\n",
    "| 3           | 2021       | Chase Freedom Flex     | 65000         |\n",
    "| 4           | 2021       | Chase Freedom Flex     | 70000         |\n",
    "\n",
    "#### Example Output:\n",
    "\n",
    "| card_name              | issued_amount |\n",
    "|------------------------|---------------|\n",
    "| Chase Sapphire Reserve | 170000        |\n",
    "| Chase Freedom Flex     | 65000         |\n",
    "\n",
    "#### Explanation:\n",
    "Chase Sapphire Reserve card was launched in January 2021 with an issued amount of 170,000 cards and the Chase Freedom Flex card was launched in March 2021 with an issued amount of 65,000 cards.\n"
   ]
  },
  {
   "cell_type": "code",
   "execution_count": 1,
   "metadata": {
    "colab": {
     "base_uri": "https://localhost:8080/"
    },
    "executionInfo": {
     "elapsed": 490,
     "status": "ok",
     "timestamp": 1755716687220,
     "user": {
      "displayName": "Himanshu Singh",
      "userId": "04013931203390313061"
     },
     "user_tz": -330
    },
    "id": "L30iO1CF3Zuv",
    "outputId": "0e409f2f-eead-463c-ec0b-2371aed8dd5a"
   },
   "outputs": [
    {
     "name": "stdout",
     "output_type": "stream",
     "text": [
      "+-----------+----------+--------------------+-------------+\n",
      "|issue_month|issue_year|           card_name|issued_amount|\n",
      "+-----------+----------+--------------------+-------------+\n",
      "|          1|      2021|Chase Sapphire Re...|       170000|\n",
      "|          2|      2021|Chase Sapphire Re...|       175000|\n",
      "|          3|      2021|Chase Sapphire Re...|       180000|\n",
      "|          3|      2021|  Chase Freedom Flex|        65000|\n",
      "|          4|      2021|  Chase Freedom Flex|        70000|\n",
      "+-----------+----------+--------------------+-------------+\n",
      "\n"
     ]
    }
   ],
   "source": [
    "from pyspark.sql import SparkSession\n",
    "from pyspark.sql.functions import *\n",
    "from pyspark.sql.types import *\n",
    "\n",
    "# Initialize Spark session\n",
    "spark = SparkSession.builder.master('local[1]').appName(\"CardLaunchSuccess\").getOrCreate()\n",
    "\n",
    "# Create data for the table\n",
    "data = [\n",
    "    (1, 2021, 'Chase Sapphire Reserve', 170000),\n",
    "    (2, 2021, 'Chase Sapphire Reserve', 175000),\n",
    "    (3, 2021, 'Chase Sapphire Reserve', 180000),\n",
    "    (3, 2021, 'Chase Freedom Flex', 65000),\n",
    "    (4, 2021, 'Chase Freedom Flex', 70000)\n",
    "]\n",
    "\n",
    "# Define schema for the DataFrame\n",
    "columns = ['issue_month', 'issue_year', 'card_name', 'issued_amount']\n",
    "\n",
    "# Create the DataFrame\n",
    "df = spark.createDataFrame(data, columns)\n",
    "\n",
    "# Show the DataFrame\n",
    "df.show()\n"
   ]
  },
  {
   "cell_type": "code",
   "execution_count": 2,
   "metadata": {},
   "outputs": [
    {
     "name": "stdout",
     "output_type": "stream",
     "text": [
      "+--------------------+-------------+\n",
      "|           card_name|issued_amount|\n",
      "+--------------------+-------------+\n",
      "|Chase Sapphire Re...|       170000|\n",
      "|  Chase Freedom Flex|        65000|\n",
      "+--------------------+-------------+\n",
      "\n"
     ]
    }
   ],
   "source": [
    "from pyspark.sql.window import Window\n",
    "winspec= Window.partitionBy('card_name').orderBy('issue_year','issue_month')\n",
    "\n",
    "df\\\n",
    "    .withColumn('rnk', row_number().over(winspec))\\\n",
    "    .where(col('rnk')==1)\\\n",
    "    .select(\"card_name\",\"issued_amount\")\\\n",
    "    .orderBy('issued_amount',ascending=0).show()"
   ]
  },
  {
   "cell_type": "code",
   "execution_count": 3,
   "metadata": {},
   "outputs": [],
   "source": [
    "df.createOrReplaceTempView('monthly_cards_issued')\n",
    "\n"
   ]
  },
  {
   "cell_type": "code",
   "execution_count": 4,
   "metadata": {},
   "outputs": [
    {
     "name": "stdout",
     "output_type": "stream",
     "text": [
      "+--------------------+-------------+\n",
      "|           card_name|issued_amount|\n",
      "+--------------------+-------------+\n",
      "|Chase Sapphire Re...|       170000|\n",
      "|  Chase Freedom Flex|        65000|\n",
      "+--------------------+-------------+\n",
      "\n"
     ]
    }
   ],
   "source": [
    "%%sparksql\n",
    "with cte as \n",
    "(   SELECT *, row_number()\n",
    "          over(PARTITION BY card_name ORDER BY issue_year,issue_month) as rnk\n",
    "    FROM monthly_cards_issued)\n",
    "\n",
    "SELECT\n",
    "      card_name,issued_amount\n",
    "FROM cte\n",
    "WHERE rnk=1\n",
    "ORDER by 1 DESC"
   ]
  }
 ],
 "metadata": {
  "colab": {
   "provenance": []
  },
  "kernelspec": {
   "display_name": "Python 3",
   "name": "python3"
  },
  "language_info": {
   "codemirror_mode": {
    "name": "ipython",
    "version": 3
   },
   "file_extension": ".py",
   "mimetype": "text/x-python",
   "name": "python",
   "nbconvert_exporter": "python",
   "pygments_lexer": "ipython3",
   "version": "3.11.0"
  }
 },
 "nbformat": 4,
 "nbformat_minor": 0
}
