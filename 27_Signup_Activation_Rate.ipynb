{
 "cells": [
  {
   "cell_type": "markdown",
   "id": "1dc1bfee",
   "metadata": {},
   "source": [
    "# Signup Activation Rate  \n",
    "**TikTok SQL Interview Question**\n",
    "\n",
    "---\n",
    "\n",
    "### Question  \n",
    "New TikTok users sign up with their emails. They confirm their signup by replying to the text confirmation to activate their accounts. Users may receive multiple text messages for account confirmation until they have confirmed their new account.\n",
    "\n",
    "A senior analyst is interested to know the activation rate of specified users in the `emails` table. Write a query to find the activation rate. Round the percentage to 2 decimal places.\n",
    "\n",
    "---\n",
    "\n",
    "### Definitions:\n",
    "- The `emails` table contains the information of user signup details.\n",
    "- The `texts` table contains the users' activation information.\n",
    "\n",
    "---\n",
    "\n",
    "### Assumptions:\n",
    "- The analyst is interested in the activation rate of specific users in the `emails` table, which may not include all users that could potentially be found in the `texts` table.\n",
    "- For example, user 123 in the `emails` table may not be in the `texts` table and vice versa.\n",
    "\n",
    "*Effective April 4th 2023, we added an assumption to the question to provide additional clarity.*\n",
    "\n",
    "---\n",
    "\n",
    "### emails Table:\n",
    "| Column Name | Type     |\n",
    "|-------------|----------|\n",
    "| email_id    | integer  |\n",
    "| user_id     | integer  |\n",
    "| signup_date | datetime |\n",
    "\n",
    "#### Example Input:\n",
    "| email_id | user_id | signup_date         |\n",
    "|----------|---------|---------------------|\n",
    "| 125      | 7771    | 06/14/2022 00:00:00 |\n",
    "| 236      | 6950    | 07/01/2022 00:00:00 |\n",
    "| 433      | 1052    | 07/09/2022 00:00:00 |\n",
    "\n",
    "---\n",
    "\n",
    "### texts Table:\n",
    "| Column Name    | Type     |\n",
    "|----------------|----------|\n",
    "| text_id        | integer  |\n",
    "| email_id       | integer  |\n",
    "| signup_action  | varchar  |\n",
    "\n",
    "#### Example Input:\n",
    "| text_id | email_id | signup_action |\n",
    "|---------|----------|----------------|\n",
    "| 6878    | 125      | Confirmed      |\n",
    "| 6920    | 236      | Not Confirmed  |\n",
    "| 6994    | 236      | Confirmed      |\n",
    "\n",
    "`'Confirmed'` in `signup_action` means the user has activated their account and successfully completed the signup process.\n",
    "\n",
    "---\n",
    "\n",
    "### Example Output:\n",
    "| confirm_rate |\n",
    "|--------------|\n",
    "| 0.67         |\n",
    "\n",
    "---\n",
    "\n",
    "### Explanation:\n",
    "67% of users have successfully completed their signup and activated their accounts. The remaining 33% have not yet replied to the text to confirm their signup.\n"
   ]
  },
  {
   "cell_type": "code",
   "execution_count": 1,
   "id": "b1137340",
   "metadata": {},
   "outputs": [
    {
     "name": "stdout",
     "output_type": "stream",
     "text": [
      "+--------+-------+-------------------+\n",
      "|email_id|user_id|        signup_date|\n",
      "+--------+-------+-------------------+\n",
      "|     125|   7771|2022-06-14 00:00:00|\n",
      "|     236|   6950|2022-07-01 00:00:00|\n",
      "|     433|   1052|2022-07-09 00:00:00|\n",
      "+--------+-------+-------------------+\n",
      "\n",
      "+-------+--------+-------------+\n",
      "|text_id|email_id|signup_action|\n",
      "+-------+--------+-------------+\n",
      "|   6878|     125|    Confirmed|\n",
      "|   6920|     236|Not Confirmed|\n",
      "|   6994|     236|    Confirmed|\n",
      "+-------+--------+-------------+\n",
      "\n"
     ]
    }
   ],
   "source": [
    "from pyspark.sql import SparkSession\n",
    "from pyspark.sql.types import StructType, StructField, IntegerType, StringType, TimestampType\n",
    "from pyspark.sql.functions import *\n",
    "from datetime import datetime\n",
    "\n",
    "# Initialize Spark session\n",
    "spark = SparkSession.builder.master('local[1]').appName(\"SignupActivationRate\").getOrCreate()\n",
    "\n",
    "# Sample data for emails table\n",
    "emails_data = [\n",
    "    (125, 7771, datetime.strptime(\"06/14/2022\", \"%m/%d/%Y\")),\n",
    "    (236, 6950, datetime.strptime(\"07/01/2022\", \"%m/%d/%Y\")),\n",
    "    (433, 1052, datetime.strptime(\"07/09/2022\", \"%m/%d/%Y\"))\n",
    "]\n",
    "\n",
    "emails_schema = StructType([\n",
    "    StructField(\"email_id\", IntegerType(), True),\n",
    "    StructField(\"user_id\", IntegerType(), True),\n",
    "    StructField(\"signup_date\", TimestampType(), True)\n",
    "])\n",
    "\n",
    "emails_df = spark.createDataFrame(emails_data, schema=emails_schema)\n",
    "\n",
    "# Sample data for texts table\n",
    "texts_data = [\n",
    "    (6878, 125, \"Confirmed\"),\n",
    "    (6920, 236, \"Not Confirmed\"),\n",
    "    (6994, 236, \"Confirmed\")\n",
    "]\n",
    "\n",
    "texts_schema = StructType([\n",
    "    StructField(\"text_id\", IntegerType(), True),\n",
    "    StructField(\"email_id\", IntegerType(), True),\n",
    "    StructField(\"signup_action\", StringType(), True)\n",
    "])\n",
    "\n",
    "texts_df = spark.createDataFrame(texts_data, schema=texts_schema)\n",
    "\n",
    "# Show the DataFrames (optional)\n",
    "emails_df.show()\n",
    "texts_df.show()\n"
   ]
  },
  {
   "cell_type": "code",
   "execution_count": 2,
   "id": "987f4764",
   "metadata": {},
   "outputs": [
    {
     "name": "stdout",
     "output_type": "stream",
     "text": [
      "+------------+\n",
      "|confirm_rate|\n",
      "+------------+\n",
      "|        0.67|\n",
      "+------------+\n",
      "\n"
     ]
    }
   ],
   "source": [
    "emails_df.join(texts_df,\n",
    "               (emails_df.email_id==texts_df.email_id) & (texts_df.signup_action=='Confirmed'), \n",
    "               'left')\\\n",
    "            .agg( round(count(texts_df.email_id)/count(emails_df.email_id),2).alias('confirm_rate')).show()"
   ]
  },
  {
   "cell_type": "code",
   "execution_count": 3,
   "id": "b17a0bf9",
   "metadata": {},
   "outputs": [
    {
     "name": "stdout",
     "output_type": "stream",
     "text": [
      "+------------+\n",
      "|confirm_rate|\n",
      "+------------+\n",
      "|        0.67|\n",
      "+------------+\n",
      "\n"
     ]
    }
   ],
   "source": [
    "emails_df.createOrReplaceTempView('emails')\n",
    "texts_df.createOrReplaceTempView('texts')\n",
    "spark.sql('''\n",
    "SELECT \n",
    "  DISTINCT round(count(texts.email_id)/COUNT(emails.email_id),2)\n",
    "  as confirm_rate\n",
    "FROM emails \n",
    "LEFT JOIN texts\n",
    "ON\n",
    "  emails.email_id=texts.email_id and signup_action = 'Confirmed' \n",
    "''').show()"
   ]
  }
 ],
 "metadata": {
  "kernelspec": {
   "display_name": "Python 3",
   "language": "python",
   "name": "python3"
  },
  "language_info": {
   "codemirror_mode": {
    "name": "ipython",
    "version": 3
   },
   "file_extension": ".py",
   "mimetype": "text/x-python",
   "name": "python",
   "nbconvert_exporter": "python",
   "pygments_lexer": "ipython3",
   "version": "3.11.0"
  }
 },
 "nbformat": 4,
 "nbformat_minor": 5
}
