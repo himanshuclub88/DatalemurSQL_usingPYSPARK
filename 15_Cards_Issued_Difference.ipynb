{
 "cells": [
  {
   "cell_type": "markdown",
   "id": "f9bdb54a",
   "metadata": {},
   "source": [
    "# Cards Issued Difference  \n",
    "**JPMorgan SQL Interview Question**\n",
    "\n",
    "## Question  \n",
    "Your team at JPMorgan Chase is preparing to launch a new credit card, and to gain some insights, you're analyzing how many credit cards were issued each month.\n",
    "\n",
    "Write a query that outputs the name of each credit card and the difference in the number of issued cards between the month with the highest issuance cards and the lowest issuance. Arrange the results based on the largest disparity.\n",
    "\n",
    "---\n",
    "\n",
    "## monthly_cards_issued Table:\n",
    "\n",
    "| Column Name        | Type     |\n",
    "|--------------------|----------|\n",
    "| card_name          | string   |\n",
    "| issued_amount      | integer  |\n",
    "| issue_month        | integer  |\n",
    "| issue_year         | integer  |\n",
    "\n",
    "---\n",
    "\n",
    "## Example Input:\n",
    "\n",
    "| card_name              | issued_amount | issue_month | issue_year |\n",
    "|------------------------|---------------|-------------|------------|\n",
    "| Chase Freedom Flex     | 55000         | 1           | 2021       |\n",
    "| Chase Freedom Flex     | 60000         | 2           | 2021       |\n",
    "| Chase Freedom Flex     | 65000         | 3           | 2021       |\n",
    "| Chase Freedom Flex     | 70000         | 4           | 2021       |\n",
    "| Chase Sapphire Reserve | 170000        | 1           | 2021       |\n",
    "| Chase Sapphire Reserve | 175000        | 2           | 2021       |\n",
    "| Chase Sapphire Reserve | 180000        | 3           | 2021       |\n",
    "\n",
    "---\n",
    "\n",
    "## Example Output:\n",
    "\n",
    "| card_name              | difference |\n",
    "|------------------------|------------|\n",
    "| Chase Freedom Flex     | 15000      |\n",
    "| Chase Sapphire Reserve | 10000      |\n",
    "\n",
    "---\n",
    "\n",
    "## Explanation:  \n",
    "- *Chase Freedom Flex's* best month was 70,000 cards issued, and the worst month was 55,000 cards, so the difference is 15,000 cards.  \n",
    "- *Chase Sapphire Reserve’s* best month was 180,000 cards issued and the worst month was 170,000 cards, so the difference is 10,000 cards.\n"
   ]
  },
  {
   "cell_type": "code",
   "execution_count": 1,
   "id": "75aecdf3",
   "metadata": {},
   "outputs": [
    {
     "name": "stdout",
     "output_type": "stream",
     "text": [
      "+--------------------+-------------+-----------+----------+\n",
      "|           card_name|issued_amount|issue_month|issue_year|\n",
      "+--------------------+-------------+-----------+----------+\n",
      "|  Chase Freedom Flex|        55000|          1|      2021|\n",
      "|  Chase Freedom Flex|        60000|          2|      2021|\n",
      "|  Chase Freedom Flex|        65000|          3|      2021|\n",
      "|  Chase Freedom Flex|        70000|          4|      2021|\n",
      "|Chase Sapphire Re...|       170000|          1|      2021|\n",
      "|Chase Sapphire Re...|       175000|          2|      2021|\n",
      "|Chase Sapphire Re...|       180000|          3|      2021|\n",
      "+--------------------+-------------+-----------+----------+\n",
      "\n"
     ]
    }
   ],
   "source": [
    "from pyspark.sql import SparkSession\n",
    "from pyspark.sql.types import StructType, StructField, StringType, IntegerType\n",
    "from pyspark.sql.functions import *\n",
    "\n",
    "# Create a Spark session\n",
    "spark = SparkSession.builder.master('local[1]').appName(\"CardsIssuedDifference\").getOrCreate()\n",
    "\n",
    "# Define schema\n",
    "schema = StructType([\n",
    "    StructField(\"card_name\", StringType(), True),\n",
    "    StructField(\"issued_amount\", IntegerType(), True),\n",
    "    StructField(\"issue_month\", IntegerType(), True),\n",
    "    StructField(\"issue_year\", IntegerType(), True)\n",
    "])\n",
    "\n",
    "# Sample data\n",
    "data = [\n",
    "    (\"Chase Freedom Flex\", 55000, 1, 2021),\n",
    "    (\"Chase Freedom Flex\", 60000, 2, 2021),\n",
    "    (\"Chase Freedom Flex\", 65000, 3, 2021),\n",
    "    (\"Chase Freedom Flex\", 70000, 4, 2021),\n",
    "    (\"Chase Sapphire Reserve\", 170000, 1, 2021),\n",
    "    (\"Chase Sapphire Reserve\", 175000, 2, 2021),\n",
    "    (\"Chase Sapphire Reserve\", 180000, 3, 2021),\n",
    "]\n",
    "\n",
    "# Create DataFrame\n",
    "df = spark.createDataFrame(data, schema)\n",
    "\n",
    "# Show the DataFrame\n",
    "df.show()\n"
   ]
  },
  {
   "cell_type": "code",
   "execution_count": 2,
   "id": "70db6f60",
   "metadata": {},
   "outputs": [
    {
     "name": "stdout",
     "output_type": "stream",
     "text": [
      "+--------------------+----------+\n",
      "|           card_name|difference|\n",
      "+--------------------+----------+\n",
      "|Chase Sapphire Re...|     10000|\n",
      "|  Chase Freedom Flex|     15000|\n",
      "+--------------------+----------+\n",
      "\n"
     ]
    }
   ],
   "source": [
    "df.groupBy('card_name').agg((max('issued_amount')-min('issued_amount')).alias('difference'))\\\n",
    "    .orderBy('difference').show()"
   ]
  },
  {
   "cell_type": "code",
   "execution_count": 3,
   "id": "d133bcac",
   "metadata": {},
   "outputs": [
    {
     "name": "stdout",
     "output_type": "stream",
     "text": [
      "+--------------------+----------+\n",
      "|           card_name|difference|\n",
      "+--------------------+----------+\n",
      "|  Chase Freedom Flex|     15000|\n",
      "|Chase Sapphire Re...|     10000|\n",
      "+--------------------+----------+\n",
      "\n"
     ]
    }
   ],
   "source": [
    "df.createOrReplaceTempView('monthly_cards_issued')\n",
    "\n",
    "spark.sql(''' \n",
    "SELECT card_name, max(issued_amount)-min(issued_amount) as difference\n",
    "FROM monthly_cards_issued\n",
    "group by card_name\n",
    "order by 2 desc\n",
    "''').show()"
   ]
  }
 ],
 "metadata": {
  "kernelspec": {
   "display_name": "Python 3",
   "language": "python",
   "name": "python3"
  },
  "language_info": {
   "codemirror_mode": {
    "name": "ipython",
    "version": 3
   },
   "file_extension": ".py",
   "mimetype": "text/x-python",
   "name": "python",
   "nbconvert_exporter": "python",
   "pygments_lexer": "ipython3",
   "version": "3.11.0"
  }
 },
 "nbformat": 4,
 "nbformat_minor": 5
}
