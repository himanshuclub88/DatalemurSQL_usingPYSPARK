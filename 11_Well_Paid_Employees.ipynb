{
 "cells": [
  {
   "cell_type": "markdown",
   "metadata": {},
   "source": [
    "# Well Paid Employees  \n",
    "**FAANG SQL Interview Question**\n",
    "\n",
    "---\n",
    "\n",
    "## Question\n",
    "\n",
    "Companies often perform salary analyses to ensure fair compensation practices.  \n",
    "One useful analysis is to check if there are any **employees earning more than their direct managers**.\n",
    "\n",
    "As an HR Analyst, you're asked to identify all employees who earn more than their direct managers.\n",
    "\n",
    "The result should include:\n",
    "- the **employee's ID**\n",
    "- the **employee's name**\n",
    "\n",
    "---\n",
    "\n",
    "## Schema\n",
    "\n",
    "### `employee` Table:\n",
    "| Column Name     | Type     | Description                         |\n",
    "|------------------|----------|-------------------------------------|\n",
    "| employee_id      | integer  | The unique ID of the employee.      |\n",
    "| name             | string   | The name of the employee.           |\n",
    "| salary           | integer  | The salary of the employee.         |\n",
    "| department_id    | integer  | The department ID of the employee.  |\n",
    "| manager_id       | integer  | The manager ID of the employee.     |\n",
    "\n",
    "---\n",
    "\n",
    "### Example Input:\n",
    "| employee_id | name             | salary | department_id | manager_id |\n",
    "|-------------|------------------|--------|----------------|-------------|\n",
    "| 1           | Emma Thompson     | 3800   | 1              | 6           |\n",
    "| 2           | Daniel Rodriguez | 2230   | 1              | 7           |\n",
    "| 3           | Olivia Smith     | 7000   | 1              | 8           |\n",
    "| 4           | Noah Johnson     | 6800   | 2              | 9           |\n",
    "| 5           | Sophia Martinez  | 1750   | 1              | 11          |\n",
    "| 6           | Liam Brown       | 13000  | 3              | NULL        |\n",
    "| 7           | Ava Garcia       | 12500  | 3              | NULL        |\n",
    "| 8           | William Davis    | 6800   | 2              | NULL        |\n",
    "\n",
    "---\n",
    "\n",
    "## Example Output:\n",
    "| employee_id | employee_name |\n",
    "|-------------|----------------|\n",
    "| 3           | Olivia Smith   |\n",
    "\n",
    "---\n",
    "\n",
    "## Explanation\n",
    "\n",
    "- **Olivia Smith** (employee ID 3) earns **$7,000**.\n",
    "- Her manager, **William Davis** (employee ID 8), earns **$6,800**.\n",
    "- Since her salary is greater than her manager's, she appears in the result.\n",
    "\n",
    "---\n"
   ]
  },
  {
   "cell_type": "code",
   "execution_count": 1,
   "metadata": {},
   "outputs": [
    {
     "name": "stdout",
     "output_type": "stream",
     "text": [
      "+-----------+----------------+------+-------------+----------+\n",
      "|employee_id|            name|salary|department_id|manager_id|\n",
      "+-----------+----------------+------+-------------+----------+\n",
      "|          1|   Emma Thompson|  3800|            1|         6|\n",
      "|          2|Daniel Rodriguez|  2230|            1|         7|\n",
      "|          3|    Olivia Smith|  7000|            1|         8|\n",
      "|          4|    Noah Johnson|  6800|            2|         9|\n",
      "|          5| Sophia Martinez|  1750|            1|        11|\n",
      "|          6|      Liam Brown| 13000|            3|      NULL|\n",
      "|          7|      Ava Garcia| 12500|            3|      NULL|\n",
      "|          8|   William Davis|  6800|            2|      NULL|\n",
      "+-----------+----------------+------+-------------+----------+\n",
      "\n"
     ]
    }
   ],
   "source": [
    "from pyspark.sql import SparkSession\n",
    "from pyspark.sql.types import StructType, StructField, IntegerType, StringType\n",
    "from pyspark.sql.functions import *\n",
    "\n",
    "# Initialize Spark session\n",
    "spark = SparkSession.builder.master('local[1]').appName(\"WellPaidEmployees\").getOrCreate()\n",
    "\n",
    "# Define schema for employee table\n",
    "employee_schema = StructType([\n",
    "    StructField(\"employee_id\", IntegerType(), True),\n",
    "    StructField(\"name\", StringType(), True),\n",
    "    StructField(\"salary\", IntegerType(), True),\n",
    "    StructField(\"department_id\", IntegerType(), True),\n",
    "    StructField(\"manager_id\", IntegerType(), True)\n",
    "])\n",
    "\n",
    "# Sample data based on the question\n",
    "employee_data = [\n",
    "    (1, \"Emma Thompson\", 3800, 1, 6),\n",
    "    (2, \"Daniel Rodriguez\", 2230, 1, 7),\n",
    "    (3, \"Olivia Smith\", 7000, 1, 8),\n",
    "    (4, \"Noah Johnson\", 6800, 2, 9),\n",
    "    (5, \"Sophia Martinez\", 1750, 1, 11),\n",
    "    (6, \"Liam Brown\", 13000, 3, None),\n",
    "    (7, \"Ava Garcia\", 12500, 3, None),\n",
    "    (8, \"William Davis\", 6800, 2, None)\n",
    "]\n",
    "\n",
    "# Create the DataFrame\n",
    "employee_df = spark.createDataFrame(employee_data, schema=employee_schema)\n",
    "\n",
    "# Show the DataFrame\n",
    "employee_df.show()\n"
   ]
  },
  {
   "cell_type": "code",
   "execution_count": 2,
   "metadata": {},
   "outputs": [
    {
     "name": "stdout",
     "output_type": "stream",
     "text": [
      "+-----------+------------+\n",
      "|employee_id|        name|\n",
      "+-----------+------------+\n",
      "|          3|Olivia Smith|\n",
      "+-----------+------------+\n",
      "\n"
     ]
    }
   ],
   "source": [
    "employee_df.alias('a')\\\n",
    "    .join(employee_df.alias('b'),(col('b.employee_id')==col('a.manager_id')) & (col('a.salary')>col('b.salary')))\\\n",
    "    .select(\"a.employee_id\",\"a.name\").show()"
   ]
  },
  {
   "cell_type": "code",
   "execution_count": 3,
   "metadata": {},
   "outputs": [
    {
     "name": "stdout",
     "output_type": "stream",
     "text": [
      "+-----------+------------+\n",
      "|employee_id|        name|\n",
      "+-----------+------------+\n",
      "|          3|Olivia Smith|\n",
      "+-----------+------------+\n",
      "\n"
     ]
    }
   ],
   "source": [
    "employee_df.createOrReplaceTempView('employee')\n",
    "\n",
    "spark.sql(\n",
    "    '''\n",
    "select a.employee_id,a.name\n",
    "from employee a join employee b\n",
    "on\n",
    "a.manager_id = b.employee_id and a.salary>b.salary\n",
    "    '''\n",
    ").show()"
   ]
  }
 ],
 "metadata": {
  "kernelspec": {
   "display_name": "Python 3",
   "language": "python",
   "name": "python3"
  },
  "language_info": {
   "codemirror_mode": {
    "name": "ipython",
    "version": 3
   },
   "file_extension": ".py",
   "mimetype": "text/x-python",
   "name": "python",
   "nbconvert_exporter": "python",
   "pygments_lexer": "ipython3",
   "version": "3.11.0"
  }
 },
 "nbformat": 4,
 "nbformat_minor": 2
}
