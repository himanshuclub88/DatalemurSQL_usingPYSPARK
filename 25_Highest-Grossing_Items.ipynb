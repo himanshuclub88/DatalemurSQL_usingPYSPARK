{
 "cells": [
  {
   "cell_type": "markdown",
   "id": "41db54d7",
   "metadata": {},
   "source": [
    "# Highest-Grossing Items  \n",
    "**Amazon SQL Interview Question**\n",
    "\n",
    "---\n",
    "\n",
    "### Question  \n",
    "Assume you're given a table containing data on Amazon customers and their spending on products in different categories. Write a query to identify the top two highest-grossing products within each category in the year **2022**. The output should include the **category**, **product**, and **total spend**.\n",
    "\n",
    "---\n",
    "\n",
    "### Table: `product_spend`\n",
    "\n",
    "| Column Name        | Type       |\n",
    "|--------------------|------------|\n",
    "| category           | string     |\n",
    "| product            | string     |\n",
    "| user_id            | integer    |\n",
    "| spend              | decimal    |\n",
    "| transaction_date   | timestamp  |\n",
    "\n",
    "---\n",
    "\n",
    "### Example Input:\n",
    "\n",
    "| category     | product           | user_id | spend   | transaction_date     |\n",
    "|--------------|-------------------|---------|---------|-----------------------|\n",
    "| appliance    | refrigerator       | 165     | 246.00  | 12/26/2021 12:00:00  |\n",
    "| appliance    | refrigerator       | 123     | 299.99  | 03/02/2022 12:00:00  |\n",
    "| appliance    | washing machine    | 123     | 219.80  | 03/02/2022 12:00:00  |\n",
    "| electronics  | vacuum             | 178     | 152.00  | 04/05/2022 12:00:00  |\n",
    "| electronics  | wireless headset   | 156     | 249.90  | 07/08/2022 12:00:00  |\n",
    "| electronics  | vacuum             | 145     | 189.00  | 07/15/2022 12:00:00  |\n",
    "\n",
    "---\n",
    "\n",
    "### Example Output:\n",
    "\n",
    "| category     | product           | total_spend |\n",
    "|--------------|-------------------|-------------|\n",
    "| appliance    | refrigerator       | 299.99      |\n",
    "| appliance    | washing machine    | 219.80      |\n",
    "| electronics  | vacuum             | 341.00      |\n",
    "| electronics  | wireless headset   | 249.90      |\n",
    "\n",
    "---\n",
    "\n",
    "### Explanation  \n",
    "Within the \"appliance\" category, the top two highest-grossing products are \"refrigerator\" and \"washing machine.\"  \n",
    "In the \"electronics\" category, the top two highest-grossing products are \"vacuum\" and \"wireless headset.\"\n",
    "\n",
    "---\n"
   ]
  },
  {
   "cell_type": "code",
   "execution_count": 1,
   "id": "b68ee0be",
   "metadata": {},
   "outputs": [
    {
     "name": "stdout",
     "output_type": "stream",
     "text": [
      "+-----------+----------------+-------+------+-------------------+\n",
      "|category   |product         |user_id|spend |transaction_date   |\n",
      "+-----------+----------------+-------+------+-------------------+\n",
      "|appliance  |refrigerator    |165    |246.0 |2021-12-26 12:00:00|\n",
      "|appliance  |refrigerator    |123    |299.99|2022-03-02 12:00:00|\n",
      "|appliance  |washing machine |123    |219.8 |2022-03-02 12:00:00|\n",
      "|electronics|vacuum          |178    |152.0 |2022-04-05 12:00:00|\n",
      "|electronics|wireless headset|156    |249.9 |2022-07-08 12:00:00|\n",
      "|electronics|vacuum          |145    |189.0 |2022-07-15 12:00:00|\n",
      "+-----------+----------------+-------+------+-------------------+\n",
      "\n"
     ]
    }
   ],
   "source": [
    "from pyspark.sql import SparkSession\n",
    "from pyspark.sql.types import *\n",
    "from pyspark.sql.functions import *\n",
    "from datetime import datetime\n",
    "\n",
    "# Create Spark session\n",
    "spark = SparkSession.builder.master('local[1]').appName(\"HighestGrossingItems\").getOrCreate()\n",
    "\n",
    "# Define schema\n",
    "schema = StructType([\n",
    "    StructField(\"category\", StringType(), True),\n",
    "    StructField(\"product\", StringType(), True),\n",
    "    StructField(\"user_id\", IntegerType(), True),\n",
    "    StructField(\"spend\", FloatType(), True),\n",
    "    StructField(\"transaction_date\", TimestampType(), True)\n",
    "])\n",
    "\n",
    "# Sample data\n",
    "data = [\n",
    "    (\"appliance\", \"refrigerator\", 165, 246.00, datetime.strptime(\"12/26/2021 12:00:00\", \"%m/%d/%Y %H:%M:%S\")),\n",
    "    (\"appliance\", \"refrigerator\", 123, 299.99, datetime.strptime(\"03/02/2022 12:00:00\", \"%m/%d/%Y %H:%M:%S\")),\n",
    "    (\"appliance\", \"washing machine\", 123, 219.80, datetime.strptime(\"03/02/2022 12:00:00\", \"%m/%d/%Y %H:%M:%S\")),\n",
    "    (\"electronics\", \"vacuum\", 178, 152.00, datetime.strptime(\"04/05/2022 12:00:00\", \"%m/%d/%Y %H:%M:%S\")),\n",
    "    (\"electronics\", \"wireless headset\", 156, 249.90, datetime.strptime(\"07/08/2022 12:00:00\", \"%m/%d/%Y %H:%M:%S\")),\n",
    "    (\"electronics\", \"vacuum\", 145, 189.00, datetime.strptime(\"07/15/2022 12:00:00\", \"%m/%d/%Y %H:%M:%S\")),\n",
    "]\n",
    "\n",
    "# Create DataFrame\n",
    "df = spark.createDataFrame(data, schema)\n",
    "\n",
    "# Show DataFrame\n",
    "df.show(truncate=False)\n"
   ]
  },
  {
   "cell_type": "code",
   "execution_count": 2,
   "id": "a9f97d45",
   "metadata": {},
   "outputs": [
    {
     "name": "stdout",
     "output_type": "stream",
     "text": [
      "+-----------+----------------+-----------+\n",
      "|   category|         product|total_spend|\n",
      "+-----------+----------------+-----------+\n",
      "|  appliance| washing machine|      219.8|\n",
      "|  appliance|    refrigerator|     299.99|\n",
      "|electronics|wireless headset|      249.9|\n",
      "|electronics|          vacuum|      341.0|\n",
      "+-----------+----------------+-----------+\n",
      "\n"
     ]
    }
   ],
   "source": [
    "from pyspark.sql.window import Window\n",
    "\n",
    "winspec= Window.partitionBy('category').orderBy('total_spend')\n",
    "\n",
    "df.where(year('transaction_date')==2022)\\\n",
    "  .groupBy('category','product').agg(round(sum('spend'),2).alias('total_spend'))\\\n",
    "  .withColumn('rnk',row_number().over(winspec))\\\n",
    "  .where('rnk<3')\\\n",
    "  .drop('rnk').show()"
   ]
  },
  {
   "cell_type": "code",
   "execution_count": 3,
   "id": "31eded24",
   "metadata": {},
   "outputs": [
    {
     "name": "stdout",
     "output_type": "stream",
     "text": [
      "+-----------+----------------+-----------+\n",
      "|   category|         product|total_spend|\n",
      "+-----------+----------------+-----------+\n",
      "|  appliance|    refrigerator|     299.99|\n",
      "|  appliance| washing machine|      219.8|\n",
      "|electronics|          vacuum|      341.0|\n",
      "|electronics|wireless headset|      249.9|\n",
      "+-----------+----------------+-----------+\n",
      "\n"
     ]
    }
   ],
   "source": [
    "df.createOrReplaceTempView('product_spend')\n",
    "\n",
    "spark.sql('''\n",
    "with cte AS\n",
    "(SELECT category, product,round(sum(spend),2) as total_spend\n",
    ",row_number() over(PARTITION BY category ORDER BY sum(spend) DESC) as rnk\n",
    "FROM product_spend\n",
    "WHERE EXTRACT(YEAR FROM transaction_date)=2022\n",
    "group by category, product)\n",
    "\n",
    "\n",
    "SELECT category, product, total_spend\n",
    "FROM cte\n",
    "where rnk<3''').show()"
   ]
  }
 ],
 "metadata": {
  "kernelspec": {
   "display_name": "Python 3",
   "language": "python",
   "name": "python3"
  },
  "language_info": {
   "codemirror_mode": {
    "name": "ipython",
    "version": 3
   },
   "file_extension": ".py",
   "mimetype": "text/x-python",
   "name": "python",
   "nbconvert_exporter": "python",
   "pygments_lexer": "ipython3",
   "version": "3.11.0"
  }
 },
 "nbformat": 4,
 "nbformat_minor": 5
}
