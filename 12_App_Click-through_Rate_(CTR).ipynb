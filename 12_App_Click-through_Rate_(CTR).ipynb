{
 "cells": [
  {
   "cell_type": "markdown",
   "metadata": {},
   "source": [
    "# App Click-through Rate (CTR)  \n",
    "**Facebook SQL Interview Question**\n",
    "\n",
    "---\n",
    "\n",
    "## Question\n",
    "\n",
    "Assume you have an `events` table on Facebook app analytics.  \n",
    "Write a query to calculate the **click-through rate (CTR)** for each app in **2022** and round the results to **2 decimal places**.\n",
    "\n",
    "---\n",
    "\n",
    "## Definition\n",
    "\n",
    "**Click-through rate (CTR)** is calculated as:\n",
    "\n",
    "\n",
    "> 💡 Note: Use `100.0` to avoid integer division and ensure the result is a float.\n",
    "\n",
    "---\n",
    "\n",
    "## Schema\n",
    "\n",
    "### `events` Table:\n",
    "| Column Name | Type      |\n",
    "|-------------|-----------|\n",
    "| app_id      | integer   |\n",
    "| event_type  | string    |\n",
    "| timestamp   | datetime  |\n",
    "\n",
    "---\n",
    "\n",
    "## Example Input:\n",
    "| app_id | event_type  | timestamp           |\n",
    "|--------|-------------|---------------------|\n",
    "| 123    | impression  | 07/18/2022 11:36:12 |\n",
    "| 123    | impression  | 07/18/2022 11:37:12 |\n",
    "| 123    | click       | 07/18/2022 11:37:42 |\n",
    "| 234    | impression  | 07/18/2022 14:15:12 |\n",
    "| 234    | click       | 07/18/2022 14:16:12 |\n",
    "\n",
    "---\n",
    "\n",
    "## Example Output:\n",
    "| app_id | ctr   |\n",
    "|--------|--------|\n",
    "| 123    | 50.00  |\n",
    "| 234    | 100.00 |\n",
    "\n",
    "---\n",
    "\n",
    "## Explanation\n",
    "\n",
    "- **App 123**:  \n",
    "  - Impressions: 2  \n",
    "  - Clicks: 1  \n",
    "  - CTR = (1 / 2) * 100.0 = **50.00**\n",
    "\n",
    "- **App 234**:  \n",
    "  - Impressions: 1  \n",
    "  - Clicks: 1  \n",
    "  - CTR = (1 / 1) * 100.0 = **100.00**\n",
    "\n",
    "---\n"
   ]
  },
  {
   "cell_type": "code",
   "execution_count": 2,
   "metadata": {},
   "outputs": [
    {
     "name": "stdout",
     "output_type": "stream",
     "text": [
      "+------+----------+-------------------+\n",
      "|app_id|event_type|          timestamp|\n",
      "+------+----------+-------------------+\n",
      "|   123|impression|2022-07-18 11:36:12|\n",
      "|   123|impression|2022-07-18 11:37:12|\n",
      "|   123|     click|2022-07-18 11:37:42|\n",
      "|   234|impression|2022-07-18 14:15:12|\n",
      "|   234|     click|2022-07-18 14:16:12|\n",
      "+------+----------+-------------------+\n",
      "\n"
     ]
    }
   ],
   "source": [
    "from pyspark.sql import SparkSession\n",
    "from pyspark.sql.types import StructType, StructField, IntegerType, StringType, TimestampType\n",
    "from datetime import datetime\n",
    "from pyspark.sql.functions import *\n",
    "\n",
    "# Initialize Spark session\n",
    "spark = SparkSession.builder.master('local[1]').appName(\"AppCTR\").getOrCreate()\n",
    "\n",
    "# Define schema for events table\n",
    "events_schema = StructType([\n",
    "    StructField(\"app_id\", IntegerType(), True),\n",
    "    StructField(\"event_type\", StringType(), True),\n",
    "    StructField(\"timestamp\", TimestampType(), True)\n",
    "])\n",
    "\n",
    "# Sample data based on the question\n",
    "events_data = [\n",
    "    (123, \"impression\", datetime(2022, 7, 18, 11, 36, 12)),\n",
    "    (123, \"impression\", datetime(2022, 7, 18, 11, 37, 12)),\n",
    "    (123, \"click\", datetime(2022, 7, 18, 11, 37, 42)),\n",
    "    (234, \"impression\", datetime(2022, 7, 18, 14, 15, 12)),\n",
    "    (234, \"click\", datetime(2022, 7, 18, 14, 16, 12))\n",
    "]\n",
    "\n",
    "# Create the DataFrame\n",
    "events_df = spark.createDataFrame(events_data, schema=events_schema)\n",
    "\n",
    "# Show the DataFrame\n",
    "events_df.show()\n"
   ]
  },
  {
   "cell_type": "code",
   "execution_count": 13,
   "metadata": {},
   "outputs": [
    {
     "name": "stdout",
     "output_type": "stream",
     "text": [
      "+------+-----+\n",
      "|app_id|  ctr|\n",
      "+------+-----+\n",
      "|   234|100.0|\n",
      "|   123| 50.0|\n",
      "+------+-----+\n",
      "\n"
     ]
    }
   ],
   "source": [
    "events_df.groupBy('app_id')\\\n",
    "    .agg(\n",
    "        round(100*sum(when(col('event_type')=='click',1))/sum(when(col('event_type')=='impression',1)),2).alias('ctr'))\\\n",
    "    .show()"
   ]
  },
  {
   "cell_type": "code",
   "execution_count": 15,
   "metadata": {},
   "outputs": [
    {
     "name": "stdout",
     "output_type": "stream",
     "text": [
      "+------+-----+\n",
      "|app_id|  ctr|\n",
      "+------+-----+\n",
      "|   234|100.0|\n",
      "|   123| 50.0|\n",
      "+------+-----+\n",
      "\n"
     ]
    }
   ],
   "source": [
    "events_df.createOrReplaceTempView('events_df')\n",
    "spark.sql(\n",
    "\"\"\" \n",
    "select \n",
    "    app_id,\n",
    "    round( 100*sum(case when event_type='click' then 1 end)/sum(case when event_type='impression' then 1 end),2 ) as ctr\n",
    "    from events_df\n",
    "    group by app_id\n",
    "\"\"\"\n",
    ").show()"
   ]
  }
 ],
 "metadata": {
  "kernelspec": {
   "display_name": "Python 3",
   "language": "python",
   "name": "python3"
  },
  "language_info": {
   "codemirror_mode": {
    "name": "ipython",
    "version": 3
   },
   "file_extension": ".py",
   "mimetype": "text/x-python",
   "name": "python",
   "nbconvert_exporter": "python",
   "pygments_lexer": "ipython3",
   "version": "3.11.0"
  }
 },
 "nbformat": 4,
 "nbformat_minor": 2
}
