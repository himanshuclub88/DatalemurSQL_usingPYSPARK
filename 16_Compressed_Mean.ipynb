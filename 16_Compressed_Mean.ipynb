{
 "cells": [
  {
   "cell_type": "markdown",
   "id": "207e6d60",
   "metadata": {},
   "source": [
    "# Compressed Mean  \n",
    "**Alibaba SQL Interview Question**\n",
    "\n",
    "---\n",
    "\n",
    "### Question  \n",
    "You're trying to find the mean number of items per order on Alibaba, rounded to 1 decimal place using tables which includes information on the count of items in each order (`item_count` table) and the corresponding number of orders for each item count (`order_occurrences` table).\n",
    "\n",
    "---\n",
    "\n",
    "### items_per_order Table:\n",
    "\n",
    "| Column Name        | Type     |\n",
    "|--------------------|----------|\n",
    "| item_count         | integer  |\n",
    "| order_occurrences  | integer  |\n",
    "\n",
    "---\n",
    "\n",
    "### Example Input:\n",
    "\n",
    "| item_count | order_occurrences |\n",
    "|------------|-------------------|\n",
    "| 1          | 500               |\n",
    "| 2          | 1000              |\n",
    "| 3          | 800               |\n",
    "| 4          | 1000              |\n",
    "\n",
    "> There are a total of 500 orders with one item per order, 1000 orders with two items per order, and 800 orders with three items per order.\n",
    "\n",
    "---\n",
    "\n",
    "### Example Output:\n",
    "\n",
    "| mean |\n",
    "|------|\n",
    "| 2.7  |\n",
    "\n",
    "---\n",
    "\n",
    "### Explanation  \n",
    "Let's calculate the arithmetic average:\n",
    "\n",
    "- **Total items** = (1×500) + (2×1000) + (3×800) + (4×1000) = **8900**\n",
    "- **Total orders** = 500 + 1000 + 800 + 1000 = **3300**\n",
    "\n",
    "So,  \n",
    "**Mean = 8900 / 3300 = 2.7**\n"
   ]
  },
  {
   "cell_type": "code",
   "execution_count": 1,
   "id": "53cc34d7",
   "metadata": {},
   "outputs": [
    {
     "name": "stdout",
     "output_type": "stream",
     "text": [
      "+----------+-----------------+\n",
      "|item_count|order_occurrences|\n",
      "+----------+-----------------+\n",
      "|         1|              500|\n",
      "|         2|             1000|\n",
      "|         3|              800|\n",
      "|         4|             1000|\n",
      "+----------+-----------------+\n",
      "\n"
     ]
    }
   ],
   "source": [
    "from pyspark.sql import SparkSession\n",
    "from pyspark.sql.types import StructType, StructField, IntegerType\n",
    "from pyspark.sql.functions import *\n",
    "\n",
    "# Initialize Spark session\n",
    "spark = SparkSession.builder.master('local[1]').appName(\"CompressedMean\").getOrCreate()\n",
    "\n",
    "# Define schema\n",
    "schema = StructType([\n",
    "    StructField(\"item_count\", IntegerType(), True),\n",
    "    StructField(\"order_occurrences\", IntegerType(), True)\n",
    "])\n",
    "\n",
    "# Create data\n",
    "data = [\n",
    "    (1, 500),\n",
    "    (2, 1000),\n",
    "    (3, 800),\n",
    "    (4, 1000)\n",
    "]\n",
    "\n",
    "# Create DataFrame\n",
    "items_per_order_df = spark.createDataFrame(data, schema)\n",
    "\n",
    "# Show DataFrame\n",
    "items_per_order_df.show()\n"
   ]
  },
  {
   "cell_type": "code",
   "execution_count": 2,
   "id": "5d859a99",
   "metadata": {},
   "outputs": [
    {
     "name": "stdout",
     "output_type": "stream",
     "text": [
      "+----+\n",
      "|mean|\n",
      "+----+\n",
      "| 2.7|\n",
      "+----+\n",
      "\n"
     ]
    }
   ],
   "source": [
    "items_per_order_df\\\n",
    "    .agg(round(sum(col('item_count')*col('order_occurrences'))/sum('order_occurrences'),1).alias('mean'))\\\n",
    "    .show()"
   ]
  },
  {
   "cell_type": "code",
   "execution_count": 3,
   "id": "0186f0fe",
   "metadata": {},
   "outputs": [
    {
     "name": "stdout",
     "output_type": "stream",
     "text": [
      "+----+\n",
      "|mean|\n",
      "+----+\n",
      "| 2.7|\n",
      "+----+\n",
      "\n"
     ]
    }
   ],
   "source": [
    "items_per_order_df.createOrReplaceTempView('items_per_order')\n",
    "spark.sql(\n",
    "\"\"\"\n",
    "SELECT round(sum(item_count * order_occurrences) / sum(order_occurrences) , 1) as mean\n",
    "FROM items_per_order\n",
    "\"\"\"\n",
    ").show()"
   ]
  }
 ],
 "metadata": {
  "kernelspec": {
   "display_name": "Python 3",
   "language": "python",
   "name": "python3"
  },
  "language_info": {
   "codemirror_mode": {
    "name": "ipython",
    "version": 3
   },
   "file_extension": ".py",
   "mimetype": "text/x-python",
   "name": "python",
   "nbconvert_exporter": "python",
   "pygments_lexer": "ipython3",
   "version": "3.11.0"
  }
 },
 "nbformat": 4,
 "nbformat_minor": 5
}
