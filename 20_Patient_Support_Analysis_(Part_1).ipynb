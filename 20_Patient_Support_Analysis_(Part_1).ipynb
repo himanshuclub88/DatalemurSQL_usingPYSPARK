{
 "cells": [
  {
   "cell_type": "markdown",
   "id": "538b0607",
   "metadata": {},
   "source": [
    "# Patient Support Analysis (Part 1)\n",
    "\n",
    "## UnitedHealth SQL Interview Question\n",
    "\n",
    "### Question  \n",
    "UnitedHealth Group (UHG) has a program called **Advocate4Me**, which allows policy holders (or, members) to call an advocate and receive support for their health care needs – whether that's claims and benefits support, drug coverage, pre- and post-authorisation, medical records, emergency assistance, or member portal services.\n",
    "\n",
    "Write a query to find how many UHG policy holders made **three or more calls**, assuming each call is identified by the `case_id` column.\n",
    "\n",
    "If you like this question, try out **Patient Support Analysis (Part 2)!**\n",
    "\n",
    "---\n",
    "\n",
    "### `callers` Table:\n",
    "\n",
    "| Column Name         | Type      |\n",
    "|---------------------|-----------|\n",
    "| policy_holder_id    | integer   |\n",
    "| case_id             | varchar   |\n",
    "| call_category       | varchar   |\n",
    "| call_date           | timestamp |\n",
    "| call_duration_secs  | integer   |\n",
    "\n",
    "---\n",
    "\n",
    "### Example Input:\n",
    "\n",
    "| policy_holder_id | case_id                                | call_category        | call_date              | call_duration_secs |\n",
    "|------------------|----------------------------------------|----------------------|------------------------|--------------------|\n",
    "| 1                | f1d012f9-9d02-4966-a968-bf6c5bc9a9fe    | emergency assistance | 2023-04-13T19:16:53Z   | 144                |\n",
    "| 1                | 41ce8fb6-1ddd-4f50-ac31-07bfcce6aaab    | authorisation        | 2023-05-25T09:09:30Z   | 815                |\n",
    "| 2                | 9b1af84b-eedb-4c21-9730-6f099cc2cc5e    | claims assistance    | 2023-01-26T01:21:27Z   | 992                |\n",
    "| 2                | 8471a3d4-6fc7-4bb2-9fc7-4583e3638a9e    | emergency assistance | 2023-03-09T10:58:54Z   | 128                |\n",
    "| 2                | 38208fae-bad0-49bf-99aa-7842ba2e37bc    | benefits             | 2023-06-05T07:35:43Z   | 619                |\n",
    "\n",
    "---\n",
    "\n",
    "### Example Output:\n",
    "\n",
    "| policy_holder_count |\n",
    "|---------------------|\n",
    "| 1                   |\n",
    "\n",
    "---\n",
    "\n",
    "### Explanation:\n",
    "\n",
    "The only caller who made **three or more calls** is **policy holder ID 2**.  \n",
    "Therefore, the number of such policy holders is **1**.\n"
   ]
  },
  {
   "cell_type": "code",
   "execution_count": 1,
   "id": "f10cbe6c",
   "metadata": {},
   "outputs": [
    {
     "name": "stdout",
     "output_type": "stream",
     "text": [
      "+----------------+------------------------------------+--------------------+-------------------+------------------+\n",
      "|policy_holder_id|case_id                             |call_category       |call_date          |call_duration_secs|\n",
      "+----------------+------------------------------------+--------------------+-------------------+------------------+\n",
      "|1               |f1d012f9-9d02-4966-a968-bf6c5bc9a9fe|emergency assistance|2023-04-13T19:16:53|144               |\n",
      "|1               |41ce8fb6-1ddd-4f50-ac31-07bfcce6aaab|authorisation       |2023-05-25T09:09:30|815               |\n",
      "|2               |9b1af84b-eedb-4c21-9730-6f099cc2cc5e|claims assistance   |2023-01-26T01:21:27|992               |\n",
      "|2               |8471a3d4-6fc7-4bb2-9fc7-4583e3638a9e|emergency assistance|2023-03-09T10:58:54|128               |\n",
      "|2               |38208fae-bad0-49bf-99aa-7842ba2e37bc|benefits            |2023-06-05T07:35:43|619               |\n",
      "+----------------+------------------------------------+--------------------+-------------------+------------------+\n",
      "\n"
     ]
    }
   ],
   "source": [
    "from pyspark.sql import SparkSession\n",
    "from pyspark.sql.types import StructType, StructField, IntegerType, StringType\n",
    "from pyspark.sql.functions import *\n",
    "\n",
    "# Create Spark session\n",
    "spark = SparkSession.builder.master('local[1]').appName(\"PatientSupportAnalysisPart1\").getOrCreate()\n",
    "\n",
    "# Define schema\n",
    "schema = StructType([\n",
    "    StructField(\"policy_holder_id\", IntegerType(), True),\n",
    "    StructField(\"case_id\", StringType(), True),\n",
    "    StructField(\"call_category\", StringType(), True),\n",
    "    StructField(\"call_date\", StringType(), True),\n",
    "    StructField(\"call_duration_secs\", IntegerType(), True),\n",
    "])\n",
    "\n",
    "# Sample data\n",
    "data = [\n",
    "    (1, \"f1d012f9-9d02-4966-a968-bf6c5bc9a9fe\", \"emergency assistance\", \"2023-04-13T19:16:53\", 144),\n",
    "    (1, \"41ce8fb6-1ddd-4f50-ac31-07bfcce6aaab\", \"authorisation\", \"2023-05-25T09:09:30\", 815),\n",
    "    (2, \"9b1af84b-eedb-4c21-9730-6f099cc2cc5e\", \"claims assistance\", \"2023-01-26T01:21:27\", 992),\n",
    "    (2, \"8471a3d4-6fc7-4bb2-9fc7-4583e3638a9e\", \"emergency assistance\", \"2023-03-09T10:58:54\", 128),\n",
    "    (2, \"38208fae-bad0-49bf-99aa-7842ba2e37bc\", \"benefits\", \"2023-06-05T07:35:43\", 619),\n",
    "]\n",
    "\n",
    "# Create DataFrame\n",
    "callers_df = spark.createDataFrame(data, schema)\n",
    "\n",
    "# Show DataFrame\n",
    "callers_df.show(truncate=False)\n"
   ]
  },
  {
   "cell_type": "code",
   "execution_count": 7,
   "id": "b1e9845b",
   "metadata": {},
   "outputs": [
    {
     "name": "stdout",
     "output_type": "stream",
     "text": [
      "+-------------------+\n",
      "|policy_holder_count|\n",
      "+-------------------+\n",
      "|                  1|\n",
      "+-------------------+\n",
      "\n"
     ]
    }
   ],
   "source": [
    "callers_df.groupBy('policy_holder_id').agg(count('case_id'))\\\n",
    "        .where('count(case_id)>=3')\\\n",
    "        .agg(count('policy_holder_id').alias('policy_holder_count'))\\\n",
    "        .show()"
   ]
  },
  {
   "cell_type": "code",
   "execution_count": 4,
   "id": "a99f6947",
   "metadata": {},
   "outputs": [
    {
     "name": "stdout",
     "output_type": "stream",
     "text": [
      "+-------------------+\n",
      "|policy_holder_count|\n",
      "+-------------------+\n",
      "|                  1|\n",
      "+-------------------+\n",
      "\n"
     ]
    }
   ],
   "source": [
    "callers_df.createOrReplaceTempView('callers')\n",
    "\n",
    "spark.sql('''with cte as \n",
    "(SELECT policy_holder_id,count(case_id)\n",
    "FROM callers\n",
    "group by policy_holder_id\n",
    "HAVING count(case_id)>=3)\n",
    "\n",
    "select count(policy_holder_id) as policy_holder_count \n",
    "FROM cte''').show()"
   ]
  }
 ],
 "metadata": {
  "kernelspec": {
   "display_name": "Python 3",
   "language": "python",
   "name": "python3"
  },
  "language_info": {
   "codemirror_mode": {
    "name": "ipython",
    "version": 3
   },
   "file_extension": ".py",
   "mimetype": "text/x-python",
   "name": "python",
   "nbconvert_exporter": "python",
   "pygments_lexer": "ipython3",
   "version": "3.11.0"
  }
 },
 "nbformat": 4,
 "nbformat_minor": 5
}
