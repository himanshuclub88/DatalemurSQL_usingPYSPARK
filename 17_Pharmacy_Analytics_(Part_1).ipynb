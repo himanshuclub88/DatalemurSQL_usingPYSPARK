{
 "cells": [
  {
   "cell_type": "markdown",
   "id": "c9eeebbd",
   "metadata": {},
   "source": [
    "# Pharmacy Analytics (Part 1)\n",
    "\n",
    "## CVS Health SQL Interview Question\n",
    "\n",
    "### Question  \n",
    "CVS Health is trying to better understand its pharmacy sales, and how well different products are selling. Each drug can only be produced by one manufacturer.\n",
    "\n",
    "Write a query to find the top 3 most profitable drugs sold, and how much profit they made. Assume that there are no ties in the profits. Display the result from the highest to the lowest total profit.\n",
    "\n",
    "**Definition:**\n",
    "\n",
    "- `cogs` stands for *Cost of Goods Sold*, which is the direct cost associated with producing the drug.  \n",
    "- **Total Profit = Total Sales - Cost of Goods Sold**\n",
    "\n",
    "If you like this question, try out **Pharmacy Analytics (Part 2)!**\n",
    "\n",
    "---\n",
    "\n",
    "### `pharmacy_sales` Table:\n",
    "\n",
    "| Column Name    | Type      |\n",
    "|----------------|-----------|\n",
    "| product_id     | integer   |\n",
    "| units_sold     | integer   |\n",
    "| total_sales    | decimal   |\n",
    "| cogs           | decimal   |\n",
    "| manufacturer   | varchar   |\n",
    "| drug           | varchar   |\n",
    "\n",
    "---\n",
    "\n",
    "### Example Input:\n",
    "\n",
    "| product_id | units_sold | total_sales | cogs       | manufacturer | drug            |\n",
    "|------------|-------------|-------------|------------|--------------|-----------------|\n",
    "| 9          | 37410       | 293452.54   | 208876.01  | Eli Lilly    | Zyprexa         |\n",
    "| 34         | 94698       | 600997.19   | 521182.16  | AstraZeneca  | Surmontil       |\n",
    "| 61         | 77023       | 500101.61   | 419174.97  | Biogen       | Varicose Relief |\n",
    "| 136        | 144814      | 1084258     | 1006447.73 | Biogen       | Burkhart        |\n",
    "\n",
    "---\n",
    "\n",
    "### Example Output:\n",
    "\n",
    "| drug            | total_profit |\n",
    "|------------------|--------------|\n",
    "| Zyprexa          | 84576.53     |\n",
    "| Varicose Relief  | 80926.64     |\n",
    "| Surmontil        | 79815.03     |\n",
    "\n",
    "---\n",
    "\n",
    "### Explanation:\n",
    "\n",
    "Zyprexa made the most profit (of $84,576.53), followed by Varicose Relief (of $80,926.64), and Surmontil (of $79,815.03).\n"
   ]
  },
  {
   "cell_type": "code",
   "execution_count": 4,
   "id": "0a1a06c3",
   "metadata": {},
   "outputs": [
    {
     "name": "stdout",
     "output_type": "stream",
     "text": [
      "+----------+----------+-----------+----------+------------+---------------+\n",
      "|product_id|units_sold|total_sales|cogs      |manufacturer|drug           |\n",
      "+----------+----------+-----------+----------+------------+---------------+\n",
      "|9         |37410     |293452.53  |208876.02 |Eli Lilly   |Zyprexa        |\n",
      "|34        |94698     |600997.2   |521182.16 |AstraZeneca |Surmontil      |\n",
      "|61        |77023     |500101.62  |419174.97 |Biogen      |Varicose Relief|\n",
      "|136       |144814    |1084258.0  |1006447.75|Biogen      |Burkhart       |\n",
      "+----------+----------+-----------+----------+------------+---------------+\n",
      "\n"
     ]
    }
   ],
   "source": [
    "from pyspark.sql import SparkSession\n",
    "from pyspark.sql.types import *\n",
    "from pyspark.sql.functions import *\n",
    "\n",
    "# Create Spark session\n",
    "spark = SparkSession.builder.master('local[1]').appName(\"PharmacyAnalytics\").getOrCreate()\n",
    "\n",
    "# Define schema\n",
    "schema = StructType([\n",
    "    StructField(\"product_id\", IntegerType(), True),\n",
    "    StructField(\"units_sold\", IntegerType(), True),\n",
    "    StructField(\"total_sales\", FloatType(), True),  \n",
    "    StructField(\"cogs\", FloatType(), True),  \n",
    "    StructField(\"manufacturer\", StringType(), True),\n",
    "    StructField(\"drug\", StringType(), True),\n",
    "])\n",
    "# Sample data\n",
    "data = [\n",
    "    (9, 37410, 293452.54, 208876.01, \"Eli Lilly\", \"Zyprexa\"),\n",
    "    (34, 94698, 600997.19, 521182.16, \"AstraZeneca\", \"Surmontil\"),\n",
    "    (61, 77023, 500101.61, 419174.97, \"Biogen\", \"Varicose Relief\"),\n",
    "    (136, 144814, 1084258.00, 1006447.73, \"Biogen\", \"Burkhart\"),\n",
    "]\n",
    "\n",
    "# Create DataFrame\n",
    "pharmacy_sales_df = spark.createDataFrame(data, schema)\n",
    "\n",
    "# Show DataFrame\n",
    "pharmacy_sales_df.show(truncate=False)\n"
   ]
  },
  {
   "cell_type": "code",
   "execution_count": 11,
   "id": "73d49265",
   "metadata": {},
   "outputs": [
    {
     "name": "stdout",
     "output_type": "stream",
     "text": [
      "+---------------+------------+\n",
      "|           drug|total_profit|\n",
      "+---------------+------------+\n",
      "|        Zyprexa|   84576.516|\n",
      "|Varicose Relief|    80926.66|\n",
      "|      Surmontil|    79815.03|\n",
      "+---------------+------------+\n",
      "\n"
     ]
    }
   ],
   "source": [
    "pharmacy_sales_df.withColumn('total_profit',col('total_sales')-col('cogs'))\\\n",
    "    .select('drug','total_profit')\\\n",
    "    .orderBy('total_profit',ascending=0)\\\n",
    "    .limit(3).show()"
   ]
  },
  {
   "cell_type": "code",
   "execution_count": 6,
   "id": "40149c32",
   "metadata": {},
   "outputs": [
    {
     "name": "stdout",
     "output_type": "stream",
     "text": [
      "+---------------+------------+\n",
      "|           drug|total_profit|\n",
      "+---------------+------------+\n",
      "|        Zyprexa|   84576.516|\n",
      "|Varicose Relief|    80926.66|\n",
      "|      Surmontil|    79815.03|\n",
      "+---------------+------------+\n",
      "\n"
     ]
    }
   ],
   "source": [
    "pharmacy_sales_df.createOrReplaceGlobalTempView('pharmacy_sales')\n",
    "\n",
    "spark.sql('''\n",
    "SELECT drug ,(total_sales-cogs) as total_profit \n",
    "FROM global_temp.pharmacy_sales\n",
    "order by 2 desc\n",
    "limit 3'''\n",
    ").show()"
   ]
  }
 ],
 "metadata": {
  "kernelspec": {
   "display_name": "Python 3",
   "language": "python",
   "name": "python3"
  },
  "language_info": {
   "codemirror_mode": {
    "name": "ipython",
    "version": 3
   },
   "file_extension": ".py",
   "mimetype": "text/x-python",
   "name": "python",
   "nbconvert_exporter": "python",
   "pygments_lexer": "ipython3",
   "version": "3.11.0"
  }
 },
 "nbformat": 4,
 "nbformat_minor": 5
}
