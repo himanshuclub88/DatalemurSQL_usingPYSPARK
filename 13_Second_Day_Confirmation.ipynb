{
 "cells": [
  {
   "cell_type": "markdown",
   "id": "5f87265e",
   "metadata": {},
   "source": [
    "# Second Day Confirmation  \n",
    "**TikTok SQL Interview Question**\n",
    "\n",
    "---\n",
    "\n",
    "## Question\n",
    "\n",
    "Assume you're given tables with information about TikTok user sign-ups and confirmations through email and text.  \n",
    "New users on TikTok sign up using their email addresses, and upon sign-up, each user receives a text message confirmation to activate their account.\n",
    "\n",
    "Write a query to display the **user IDs of those who did not confirm their sign-up on the first day, but confirmed on the second day**.\n",
    "\n",
    "---\n",
    "\n",
    "## Definition\n",
    "\n",
    "- `action_date` refers to the date when users activated their accounts and confirmed their sign-up through text messages.\n",
    "\n",
    "---\n",
    "\n",
    "## Schema\n",
    "\n",
    "### `emails` Table:\n",
    "| Column Name | Type      |\n",
    "|-------------|-----------|\n",
    "| email_id    | integer   |\n",
    "| user_id     | integer   |\n",
    "| signup_date | datetime  |\n",
    "\n",
    "### `texts` Table:\n",
    "| Column Name    | Type      |\n",
    "|----------------|-----------|\n",
    "| text_id        | integer   |\n",
    "| email_id       | integer   |\n",
    "| signup_action  | string    |\n",
    "| action_date    | datetime  |\n",
    "\n",
    "---\n",
    "\n",
    "## Example Input\n",
    "\n",
    "### `emails`\n",
    "| email_id | user_id | signup_date         |\n",
    "|----------|---------|---------------------|\n",
    "| 125      | 7771    | 06/14/2022 00:00:00 |\n",
    "| 433      | 1052    | 07/09/2022 00:00:00 |\n",
    "\n",
    "### `texts`\n",
    "| text_id | email_id | signup_action | action_date         |\n",
    "|---------|----------|----------------|---------------------|\n",
    "| 6878    | 125      | Confirmed      | 06/14/2022 00:00:00 |\n",
    "| 6997    | 433      | Not Confirmed  | 07/09/2022 00:00:00 |\n",
    "| 7000    | 433      | Confirmed      | 07/10/2022 00:00:00 |\n",
    "\n",
    "---\n",
    "\n",
    "## Example Output:\n",
    "| user_id |\n",
    "|---------|\n",
    "| 1052    |\n",
    "\n",
    "---\n",
    "\n",
    "## Explanation\n",
    "\n",
    "User **1052** signed up on **07/09/2022** and initially did **not confirm** their account.  \n",
    "However, on the **next day (07/10/2022)**, they **confirmed** their sign-up.\n",
    "\n",
    "This matches the condition of confirming on the **second day**, and hence their user ID is included in the result.\n"
   ]
  },
  {
   "cell_type": "code",
   "execution_count": 1,
   "id": "ac9049ab",
   "metadata": {},
   "outputs": [
    {
     "name": "stdout",
     "output_type": "stream",
     "text": [
      "+--------+-------+-------------------+\n",
      "|email_id|user_id|        signup_date|\n",
      "+--------+-------+-------------------+\n",
      "|     125|   7771|2022-06-14 00:00:00|\n",
      "|     433|   1052|2022-07-09 00:00:00|\n",
      "+--------+-------+-------------------+\n",
      "\n",
      "+-------+--------+-------------+-------------------+\n",
      "|text_id|email_id|signup_action|        action_date|\n",
      "+-------+--------+-------------+-------------------+\n",
      "|   6878|     125|    Confirmed|2022-06-14 00:00:00|\n",
      "|   6997|     433|Not Confirmed|2022-07-09 00:00:00|\n",
      "|   7000|     433|    Confirmed|2022-07-10 00:00:00|\n",
      "+-------+--------+-------------+-------------------+\n",
      "\n"
     ]
    }
   ],
   "source": [
    "from pyspark.sql import SparkSession\n",
    "from pyspark.sql.types import StructType, StructField, IntegerType, StringType, TimestampType\n",
    "from datetime import datetime\n",
    "from pyspark.sql.functions import *\n",
    "\n",
    "# Start Spark session\n",
    "spark = SparkSession.builder.master('local[1]').appName(\"SecondDayConfirmation\").getOrCreate()\n",
    "\n",
    "# Define schema for emails table\n",
    "emails_schema = StructType([\n",
    "    StructField(\"email_id\", IntegerType(), True),\n",
    "    StructField(\"user_id\", IntegerType(), True),\n",
    "    StructField(\"signup_date\", TimestampType(), True)\n",
    "])\n",
    "\n",
    "# Define data for emails table\n",
    "emails_data = [\n",
    "    (125, 7771, datetime(2022, 6, 14, 0, 0, 0)),\n",
    "    (433, 1052, datetime(2022, 7, 9, 0, 0, 0))\n",
    "]\n",
    "\n",
    "# Create emails DataFrame\n",
    "emails_df = spark.createDataFrame(emails_data, schema=emails_schema)\n",
    "\n",
    "# Define schema for texts table\n",
    "texts_schema = StructType([\n",
    "    StructField(\"text_id\", IntegerType(), True),\n",
    "    StructField(\"email_id\", IntegerType(), True),\n",
    "    StructField(\"signup_action\", StringType(), True),\n",
    "    StructField(\"action_date\", TimestampType(), True)\n",
    "])\n",
    "\n",
    "# Define data for texts table\n",
    "texts_data = [\n",
    "    (6878, 125, \"Confirmed\", datetime(2022, 6, 14, 0, 0, 0)),\n",
    "    (6997, 433, \"Not Confirmed\", datetime(2022, 7, 9, 0, 0, 0)),\n",
    "    (7000, 433, \"Confirmed\", datetime(2022, 7, 10, 0, 0, 0))\n",
    "]\n",
    "\n",
    "# Create texts DataFrame\n",
    "texts_df = spark.createDataFrame(texts_data, schema=texts_schema)\n",
    "\n",
    "# Show the DataFrames\n",
    "emails_df.show()\n",
    "texts_df.show()\n"
   ]
  },
  {
   "cell_type": "code",
   "execution_count": null,
   "id": "eb79abbf",
   "metadata": {},
   "outputs": [
    {
     "name": "stdout",
     "output_type": "stream",
     "text": [
      "+-------+\n",
      "|user_id|\n",
      "+-------+\n",
      "|   1052|\n",
      "+-------+\n",
      "\n"
     ]
    }
   ],
   "source": [
    "texts_df.where('signup_action=\"Confirmed\"')\\\n",
    "    .join(emails_df,['email_id'])\\\n",
    "    .where(date_diff('action_date','signup_date')==1)\\\n",
    "    .select('user_id').show()"
   ]
  },
  {
   "cell_type": "code",
   "execution_count": 22,
   "id": "6b3ed1a6",
   "metadata": {},
   "outputs": [
    {
     "name": "stdout",
     "output_type": "stream",
     "text": [
      "+-------+\n",
      "|user_id|\n",
      "+-------+\n",
      "|   1052|\n",
      "+-------+\n",
      "\n"
     ]
    }
   ],
   "source": [
    "emails_df.createOrReplaceTempView('emails')\n",
    "texts_df.createOrReplaceTempView('texts')\n",
    "\n",
    "spark.sql(''' \n",
    "select user_id \n",
    "    from texts join emails\n",
    "    using(email_id)\n",
    "    where date_diff(action_date,signup_date)=1 and signup_action=\"Confirmed\"       \n",
    "''').show()"
   ]
  }
 ],
 "metadata": {
  "kernelspec": {
   "display_name": "Python 3",
   "language": "python",
   "name": "python3"
  },
  "language_info": {
   "codemirror_mode": {
    "name": "ipython",
    "version": 3
   },
   "file_extension": ".py",
   "mimetype": "text/x-python",
   "name": "python",
   "nbconvert_exporter": "python",
   "pygments_lexer": "ipython3",
   "version": "3.11.0"
  }
 },
 "nbformat": 4,
 "nbformat_minor": 5
}
