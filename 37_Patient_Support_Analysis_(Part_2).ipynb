{
 "cells": [
  {
   "cell_type": "markdown",
   "metadata": {},
   "source": [
    "# Patient Support Analysis (Part 2)\n",
    "## UnitedHealth SQL Interview Question\n",
    "\n",
    "### Question:\n",
    "UnitedHealth Group (UHG) has a program called Advocate4Me, which allows policy holders (or, members) to call an advocate and receive support for their health care needs – whether that's claims and benefits support, drug coverage, pre- and post-authorisation, medical records, emergency assistance, or member portal services.\n",
    "\n",
    "Calls to the Advocate4Me call centre are classified into various categories, but some calls cannot be neatly categorised. These uncategorised calls are labeled as “n/a”, or are left empty when the support agent does not enter anything into the call category field.\n",
    "\n",
    "Write a query to calculate the percentage of calls that cannot be categorised. Round your answer to 1 decimal place. For example, 45.0, 48.5, 57.7.\n",
    "\n",
    "### callers Table:\n",
    "| Column Name       | Type   |\n",
    "|-------------------|--------|\n",
    "| policy_holder_id  | integer|\n",
    "| case_id           | varchar|\n",
    "| call_category     | varchar|\n",
    "| call_date         | timestamp|\n",
    "| call_duration_secs| integer|\n",
    "\n",
    "#### callers Example Input:\n",
    "| policy_holder_id | case_id                              | call_category     | call_date               | call_duration_secs |\n",
    "|------------------|--------------------------------------|-------------------|-------------------------|--------------------|\n",
    "| 1                | f1d012f9-9d02-4966-a968-bf6c5bc9a9fe | emergency assistance| 2023-04-13T19:16:53Z   | 144                |\n",
    "| 1                | 41ce8fb6-1ddd-4f50-ac31-07bfcce6aaab | authorisation      | 2023-05-25T09:09:30Z   | 815                |\n",
    "| 2                | 9b1af84b-eedb-4c21-9730-6f099cc2cc5e | n/a                | 2023-01-26T01:21:27Z   | 992                |\n",
    "| 2                | 8471a3d4-6fc7-4bb2-9fc7-4583e3638a9e | emergency assistance| 2023-03-09T10:58:54Z   | 128                |\n",
    "| 2                | 38208fae-bad0-49bf-99aa-7842ba2e37bc | benefits           | 2023-06-05T07:35:43Z   | 619                |\n",
    "\n",
    "#### Example Output:\n",
    "| uncategorised_call_pct |\n",
    "|------------------------|\n",
    "| 20.0                   |\n",
    "\n",
    "#### Explanation:\n",
    "Out of the total of 5 calls registered, one call was not categorised. Therefore, the percentage of uncategorised calls is calculated as 20.0% (1 out of 5 multiplied by 100 and rounded to one decimal place).\n"
   ]
  },
  {
   "cell_type": "code",
   "execution_count": 1,
   "metadata": {},
   "outputs": [
    {
     "name": "stdout",
     "output_type": "stream",
     "text": [
      "+----------------+--------------------+--------------------+--------------------+------------------+\n",
      "|policy_holder_id|             case_id|       call_category|           call_date|call_duration_secs|\n",
      "+----------------+--------------------+--------------------+--------------------+------------------+\n",
      "|               1|f1d012f9-9d02-496...|emergency assistance|2023-04-13T19:16:53Z|               144|\n",
      "|               1|41ce8fb6-1ddd-4f5...|       authorisation|2023-05-25T09:09:30Z|               815|\n",
      "|               2|9b1af84b-eedb-4c2...|                 n/a|2023-01-26T01:21:27Z|               992|\n",
      "|               2|8471a3d4-6fc7-4bb...|emergency assistance|2023-03-09T10:58:54Z|               128|\n",
      "|               2|38208fae-bad0-49b...|            benefits|2023-06-05T07:35:43Z|               619|\n",
      "+----------------+--------------------+--------------------+--------------------+------------------+\n",
      "\n"
     ]
    }
   ],
   "source": [
    "from pyspark.sql import SparkSession\n",
    "from pyspark.sql.functions import *\n",
    "from pyspark.sql.functions import *\n",
    "\n",
    "# Initialize Spark session\n",
    "spark = SparkSession.builder.master('local[1]').appName(\"PatientSupportAnalysis\").getOrCreate()\n",
    "\n",
    "# Sample data for the callers table\n",
    "data = [\n",
    "    (1, \"f1d012f9-9d02-4966-a968-bf6c5bc9a9fe\", \"emergency assistance\", \"2023-04-13T19:16:53Z\", 144),\n",
    "    (1, \"41ce8fb6-1ddd-4f50-ac31-07bfcce6aaab\", \"authorisation\", \"2023-05-25T09:09:30Z\", 815),\n",
    "    (2, \"9b1af84b-eedb-4c21-9730-6f099cc2cc5e\", \"n/a\", \"2023-01-26T01:21:27Z\", 992),\n",
    "    (2, \"8471a3d4-6fc7-4bb2-9fc7-4583e3638a9e\", \"emergency assistance\", \"2023-03-09T10:58:54Z\", 128),\n",
    "    (2, \"38208fae-bad0-49bf-99aa-7842ba2e37bc\", \"benefits\", \"2023-06-05T07:35:43Z\", 619)\n",
    "]\n",
    "\n",
    "# Define schema for the callers table\n",
    "columns = [\"policy_holder_id\", \"case_id\", \"call_category\", \"call_date\", \"call_duration_secs\"]\n",
    "\n",
    "# Create DataFrame\n",
    "df = spark.createDataFrame(data, columns)\n",
    "\n",
    "# Show DataFrame\n",
    "df.show()\n"
   ]
  },
  {
   "cell_type": "code",
   "execution_count": 17,
   "metadata": {},
   "outputs": [
    {
     "name": "stdout",
     "output_type": "stream",
     "text": [
      "+----------------------+\n",
      "|uncategorised_call_pct|\n",
      "+----------------------+\n",
      "|                  20.0|\n",
      "+----------------------+\n",
      "\n"
     ]
    }
   ],
   "source": [
    "df.agg(\n",
    "    (\n",
    "        100*sum( \n",
    "            when((col('call_category').isNull()) | (col('call_category')=='n/a'),1)\\\n",
    "                .otherwise(0)\n",
    "            )/sum(lit(1))).alias('uncategorised_call_pct')\n",
    "    ).show()"
   ]
  },
  {
   "cell_type": "code",
   "execution_count": 2,
   "metadata": {},
   "outputs": [],
   "source": [
    "df.createOrReplaceTempView('callers')"
   ]
  },
  {
   "cell_type": "code",
   "execution_count": 4,
   "metadata": {},
   "outputs": [
    {
     "name": "stdout",
     "output_type": "stream",
     "text": [
      "+----------------------+\n",
      "|uncategorised_call_pct|\n",
      "+----------------------+\n",
      "|                  20.0|\n",
      "+----------------------+\n",
      "\n"
     ]
    }
   ],
   "source": [
    "%%sparksql\n",
    "SELECT \n",
    "  round(100.0*sum(case when call_category IS NULL OR call_category='n/a' \n",
    "           then 1 \n",
    "           else 0 \n",
    "           end)/sum(1),1) as uncategorised_call_pct\n",
    "FROM callers "
   ]
  }
 ],
 "metadata": {
  "kernelspec": {
   "display_name": "Python 3",
   "language": "python",
   "name": "python3"
  },
  "language_info": {
   "codemirror_mode": {
    "name": "ipython",
    "version": 3
   },
   "file_extension": ".py",
   "mimetype": "text/x-python",
   "name": "python",
   "nbconvert_exporter": "python",
   "pygments_lexer": "ipython3",
   "version": "3.11.0"
  }
 },
 "nbformat": 4,
 "nbformat_minor": 2
}
