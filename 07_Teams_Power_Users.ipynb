{
 "cells": [
  {
   "cell_type": "markdown",
   "metadata": {},
   "source": [
    "# Teams Power Users\n",
    "\n",
    "## Microsoft SQL Interview Question\n",
    "\n",
    "### Question\n",
    "\n",
    "Write a query to identify the top 2 Power Users who sent the highest number of messages on Microsoft Teams in August 2022. Display the IDs of these 2 users along with the total number of messages they sent. Output the results in descending order based on the count of the messages.\n",
    "\n",
    "---\n",
    "\n",
    "### Assumption:\n",
    "\n",
    "- No two users have sent the same number of messages in August 2022.\n",
    "\n",
    "---\n",
    "\n",
    "### Table: `messages`\n",
    "\n",
    "| Column Name | Type       |\n",
    "|-------------|------------|\n",
    "| message_id  | integer    |\n",
    "| sender_id   | integer    |\n",
    "| receiver_id | integer    |\n",
    "| content     | varchar    |\n",
    "| sent_date   | datetime   |\n",
    "\n",
    "---\n",
    "\n",
    "### Example Input for `messages` Table:\n",
    "\n",
    "| message_id | sender_id | receiver_id | content                | sent_date             |\n",
    "|------------|-----------|-------------|------------------------|-----------------------|\n",
    "| 901        | 3601      | 4500        | You up?                | 08/03/2022 00:00:00   |\n",
    "| 902        | 4500      | 3601        | Only if you're buying  | 08/03/2022 00:00:00   |\n",
    "| 743        | 3601      | 8752        | Let's take this offline| 06/14/2022 00:00:00   |\n",
    "| 922        | 3601      | 4500        | Get on the call        | 08/10/2022 00:00:00   |\n",
    "\n",
    "---\n",
    "\n",
    "### Example Output:\n",
    "\n",
    "| sender_id | message_count |\n",
    "|-----------|---------------|\n",
    "| 3601      | 2             |\n",
    "| 4500      | 1             |\n",
    "\n",
    "---\n",
    "\n",
    "### Explanation\n",
    "\n",
    "For **sender_id 3601**, they sent a total of **2 messages** in August 2022.  \n",
    "For **sender_id 4500**, they sent a total of **1 message** in August 2022.\n"
   ]
  },
  {
   "cell_type": "code",
   "execution_count": 1,
   "metadata": {},
   "outputs": [
    {
     "name": "stdout",
     "output_type": "stream",
     "text": [
      "+----------+---------+-----------+-----------------------+-------------------+\n",
      "|message_id|sender_id|receiver_id|content                |sent_date          |\n",
      "+----------+---------+-----------+-----------------------+-------------------+\n",
      "|901       |3601     |4500       |You up?                |2022-08-03 00:00:00|\n",
      "|902       |4500     |3601       |Only if you're buying  |2022-08-03 00:00:00|\n",
      "|743       |3601     |8752       |Let's take this offline|2022-06-14 00:00:00|\n",
      "|922       |3601     |4500       |Get on the call        |2022-08-10 00:00:00|\n",
      "+----------+---------+-----------+-----------------------+-------------------+\n",
      "\n"
     ]
    }
   ],
   "source": [
    "from pyspark.sql import SparkSession\n",
    "from pyspark.sql.types import StructType, StructField, IntegerType, StringType, TimestampType\n",
    "from pyspark.sql.functions import *\n",
    "from datetime import datetime\n",
    "\n",
    "# Create Spark session\n",
    "spark = SparkSession.builder.master('local[1]').appName(\"TeamsMessages\").getOrCreate()\n",
    "\n",
    "# Define the schema for messages table\n",
    "schema = StructType([\n",
    "    StructField(\"message_id\", IntegerType(), True),\n",
    "    StructField(\"sender_id\", IntegerType(), True),\n",
    "    StructField(\"receiver_id\", IntegerType(), True),\n",
    "    StructField(\"content\", StringType(), True),\n",
    "    StructField(\"sent_date\", TimestampType(), True)\n",
    "])\n",
    "\n",
    "# Define the data for messages table\n",
    "data = [\n",
    "    (901, 3601, 4500, \"You up?\", datetime(2022, 8, 3, 0, 0)),\n",
    "    (902, 4500, 3601, \"Only if you're buying\", datetime(2022, 8, 3, 0, 0)),\n",
    "    (743, 3601, 8752, \"Let's take this offline\", datetime(2022, 6, 14, 0, 0)),\n",
    "    (922, 3601, 4500, \"Get on the call\", datetime(2022, 8, 10, 0, 0))\n",
    "]\n",
    "\n",
    "# Create the Spark DataFrame\n",
    "messages_df = spark.createDataFrame(data, schema=schema)\n",
    "\n",
    "# Show the DataFrame\n",
    "messages_df.show(truncate=False)\n"
   ]
  },
  {
   "cell_type": "code",
   "execution_count": 10,
   "metadata": {},
   "outputs": [
    {
     "name": "stdout",
     "output_type": "stream",
     "text": [
      "+---------+-------------+\n",
      "|sender_id|message_count|\n",
      "+---------+-------------+\n",
      "|     3601|            2|\n",
      "|     4500|            1|\n",
      "+---------+-------------+\n",
      "\n"
     ]
    }
   ],
   "source": [
    "messages_df.where(col('sent_date').like('2022-08%'))\\\n",
    "            .groupBy('sender_id')\\\n",
    "            .agg(count('message_id').alias('message_count'))\\\n",
    "            .orderBy(col('message_count').desc())\\\n",
    "            .show(2)"
   ]
  },
  {
   "cell_type": "code",
   "execution_count": 6,
   "metadata": {},
   "outputs": [
    {
     "name": "stdout",
     "output_type": "stream",
     "text": [
      "+---------+-------------+\n",
      "|sender_id|message_count|\n",
      "+---------+-------------+\n",
      "|     3601|            2|\n",
      "|     4500|            1|\n",
      "+---------+-------------+\n",
      "\n"
     ]
    }
   ],
   "source": [
    "messages_df.createOrReplaceTempView('message')\n",
    "\n",
    "spark.sql(\"\"\"\n",
    "\n",
    "        select sender_id,count(message_id) as message_count\n",
    "        from message\n",
    "          where sent_date like '2022-08%'\n",
    "          group by sender_id\n",
    "          order by 2 desc\n",
    "\"\"\").show()"
   ]
  }
 ],
 "metadata": {
  "kernelspec": {
   "display_name": "Python 3",
   "language": "python",
   "name": "python3"
  },
  "language_info": {
   "codemirror_mode": {
    "name": "ipython",
    "version": 3
   },
   "file_extension": ".py",
   "mimetype": "text/x-python",
   "name": "python",
   "nbconvert_exporter": "python",
   "pygments_lexer": "ipython3",
   "version": "3.11.0"
  }
 },
 "nbformat": 4,
 "nbformat_minor": 2
}
