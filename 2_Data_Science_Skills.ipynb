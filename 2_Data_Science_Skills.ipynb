{
 "cells": [
  {
   "cell_type": "markdown",
   "metadata": {},
   "source": [
    "# Data Science Skills\n",
    "\n",
    "## LinkedIn SQL Interview Question\n",
    "\n",
    "### Question\n",
    "\n",
    "Given a table of candidates and their skills, you're tasked with finding the candidates best suited for an open Data Science job.  \n",
    "You want to find candidates who are proficient in **Python**, **Tableau**, and **PostgreSQL**.\n",
    "\n",
    "Write a query to list the candidates who possess **all of the required skills** for the job.  \n",
    "Sort the output by `candidate_id` in ascending order.\n",
    "\n",
    "**Assumption:**  \n",
    "There are no duplicates in the `candidates` table.\n",
    "\n",
    "---\n",
    "\n",
    "### Table: `candidates`\n",
    "\n",
    "| Column Name   | Type     |\n",
    "|---------------|----------|\n",
    "| candidate_id  | integer  |\n",
    "| skill         | varchar  |\n",
    "\n",
    "---\n",
    "\n",
    "### Example Input:\n",
    "\n",
    "| candidate_id | skill       |\n",
    "|--------------|-------------|\n",
    "| 123          | Python      |\n",
    "| 123          | Tableau     |\n",
    "| 123          | PostgreSQL  |\n",
    "| 234          | R           |\n",
    "| 234          | PowerBI     |\n",
    "| 234          | SQL Server  |\n",
    "| 345          | Python      |\n",
    "| 345          | Tableau     |\n",
    "\n",
    "---\n",
    "\n",
    "### Example Output:\n",
    "\n",
    "| candidate_id |\n",
    "|--------------|\n",
    "| 123          |\n",
    "\n",
    "---\n",
    "\n",
    "### Explanation\n",
    "\n",
    "Candidate **123** is displayed because they have all the required skills:  \n",
    "**Python**, **Tableau**, and **PostgreSQL**.\n",
    "\n",
    "Candidate **345** is not included because they are missing **PostgreSQL**.\n"
   ]
  },
  {
   "cell_type": "code",
   "execution_count": 2,
   "metadata": {},
   "outputs": [
    {
     "name": "stdout",
     "output_type": "stream",
     "text": [
      "+------------+----------+\n",
      "|candidate_id|     skill|\n",
      "+------------+----------+\n",
      "|         123|    Python|\n",
      "|         123|   Tableau|\n",
      "|         123|PostgreSQL|\n",
      "|         234|         R|\n",
      "|         234|   PowerBI|\n",
      "|         234|SQL Server|\n",
      "|         345|    Python|\n",
      "|         345|   Tableau|\n",
      "+------------+----------+\n",
      "\n"
     ]
    }
   ],
   "source": [
    "from pyspark.sql import SparkSession\n",
    "from pyspark.sql.types import StructType, StructField, IntegerType, StringType\n",
    "from pyspark.sql.functions import *\n",
    "\n",
    "# Create Spark session\n",
    "spark = SparkSession.builder.master('local').appName(\"CandidateSkills\").getOrCreate()\n",
    "\n",
    "# Define the schema\n",
    "schema = StructType([\n",
    "    StructField(\"candidate_id\", IntegerType(), True),\n",
    "    StructField(\"skill\", StringType(), True)\n",
    "])\n",
    "\n",
    "# Define the data\n",
    "data = [\n",
    "    (123, \"Python\"),\n",
    "    (123, \"Tableau\"),\n",
    "    (123, \"PostgreSQL\"),\n",
    "    (234, \"R\"),\n",
    "    (234, \"PowerBI\"),\n",
    "    (234, \"SQL Server\"),\n",
    "    (345, \"Python\"),\n",
    "    (345, \"Tableau\")\n",
    "]\n",
    "\n",
    "# Create the DataFrame\n",
    "candidates_df = spark.createDataFrame(data, schema)\n",
    "\n",
    "# Show the DataFrame\n",
    "candidates_df.show()\n"
   ]
  },
  {
   "cell_type": "code",
   "execution_count": 9,
   "metadata": {},
   "outputs": [
    {
     "name": "stdout",
     "output_type": "stream",
     "text": [
      "+------------+\n",
      "|candidate_id|\n",
      "+------------+\n",
      "|         123|\n",
      "+------------+\n",
      "\n"
     ]
    }
   ],
   "source": [
    "candidates_df.filter(col('skill').isin('Python','Tableau','PostgreSQL'))\\\n",
    "             .groupBy('candidate_id').count()\\\n",
    "             .where('count > 2')\\\n",
    "             .select('candidate_id')\\\n",
    "             .show()"
   ]
  },
  {
   "cell_type": "code",
   "execution_count": 11,
   "metadata": {},
   "outputs": [],
   "source": [
    "candidates_df.createOrReplaceTempView('candidates')"
   ]
  },
  {
   "cell_type": "code",
   "execution_count": 12,
   "metadata": {},
   "outputs": [
    {
     "name": "stdout",
     "output_type": "stream",
     "text": [
      "+------------+\n",
      "|candidate_id|\n",
      "+------------+\n",
      "|         123|\n",
      "+------------+\n",
      "\n"
     ]
    }
   ],
   "source": [
    "%%sql\n",
    "SELECT candidate_id FROM candidates\n",
    "where \n",
    "skill = 'Python' or skill ='Tableau' or skill ='PostgreSQL'\n",
    "group by candidate_id\n",
    "having count(candidate_id)=3\n",
    "order by candidate_id;"
   ]
  }
 ],
 "metadata": {
  "kernelspec": {
   "display_name": "Python 3",
   "language": "python",
   "name": "python3"
  },
  "language_info": {
   "codemirror_mode": {
    "name": "ipython",
    "version": 3
   },
   "file_extension": ".py",
   "mimetype": "text/x-python",
   "name": "python",
   "nbconvert_exporter": "python",
   "pygments_lexer": "ipython3",
   "version": "3.11.0"
  }
 },
 "nbformat": 4,
 "nbformat_minor": 2
}
