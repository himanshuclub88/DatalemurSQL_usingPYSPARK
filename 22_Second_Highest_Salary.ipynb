{
 "cells": [
  {
   "cell_type": "markdown",
   "id": "bf044697",
   "metadata": {},
   "source": [
    "# Second Highest Salary\n",
    "\n",
    "## FAANG SQL Interview Question\n",
    "\n",
    "### Question  \n",
    "Imagine you're an HR analyst at a tech company tasked with analyzing employee salaries.  \n",
    "Your manager is keen on understanding the pay distribution and asks you to determine the **second highest salary** among all employees.\n",
    "\n",
    "It's possible that multiple employees may share the same second highest salary.  \n",
    "In case of duplicate, display the salary **only once**.\n",
    "\n",
    "---\n",
    "\n",
    "### `employee` Schema:\n",
    "\n",
    "| column_name   | type     | description                          |\n",
    "|---------------|----------|--------------------------------------|\n",
    "| employee_id   | integer  | The unique ID of the employee.       |\n",
    "| name          | string   | The name of the employee.            |\n",
    "| salary        | integer  | The salary of the employee.          |\n",
    "| department_id | integer  | The department ID of the employee.   |\n",
    "| manager_id    | integer  | The manager ID of the employee.      |\n",
    "\n",
    "---\n",
    "\n",
    "### Example Input:\n",
    "\n",
    "| employee_id | name             | salary | department_id | manager_id |\n",
    "|-------------|------------------|--------|----------------|-------------|\n",
    "| 1           | Emma Thompson    | 3800   | 1              | 6           |\n",
    "| 2           | Daniel Rodriguez | 2230   | 1              | 7           |\n",
    "| 3           | Olivia Smith     | 2000   | 1              | 8           |\n",
    "\n",
    "---\n",
    "\n",
    "### Example Output:\n",
    "\n",
    "| second_highest_salary |\n",
    "|------------------------|\n",
    "| 2230                   |\n",
    "\n",
    "---\n",
    "\n",
    "### Explanation:\n",
    "\n",
    "The highest salary is **$3,800**, and the second highest is **$2,230**.  \n",
    "Only one value is returned, even if multiple employees earned that same amount.\n"
   ]
  },
  {
   "cell_type": "code",
   "execution_count": 7,
   "id": "e3e4397c",
   "metadata": {},
   "outputs": [
    {
     "name": "stdout",
     "output_type": "stream",
     "text": [
      "+-----------+----------------+------+-------------+----------+\n",
      "|employee_id|name            |salary|department_id|manager_id|\n",
      "+-----------+----------------+------+-------------+----------+\n",
      "|1          |Emma Thompson   |3800  |1            |6         |\n",
      "|2          |Daniel Rodriguez|2230  |1            |7         |\n",
      "|3          |Olivia Smith    |2000  |1            |8         |\n",
      "+-----------+----------------+------+-------------+----------+\n",
      "\n"
     ]
    }
   ],
   "source": [
    "from pyspark.sql import SparkSession\n",
    "from pyspark.sql.types import StructType, StructField, IntegerType, StringType\n",
    "from pyspark.sql.functions import *\n",
    "\n",
    "# Create Spark session\n",
    "spark = SparkSession.builder.master('local[1]').appName(\"SecondHighestSalary\").getOrCreate()\n",
    "\n",
    "# Define schema\n",
    "schema = StructType([\n",
    "    StructField(\"employee_id\", IntegerType(), True),\n",
    "    StructField(\"name\", StringType(), True),\n",
    "    StructField(\"salary\", IntegerType(), True),\n",
    "    StructField(\"department_id\", IntegerType(), True),\n",
    "    StructField(\"manager_id\", IntegerType(), True),\n",
    "])\n",
    "\n",
    "# Sample data\n",
    "data = [\n",
    "    (1, \"Emma Thompson\", 3800, 1, 6),\n",
    "    (2, \"Daniel Rodriguez\", 2230, 1, 7),\n",
    "    (3, \"Olivia Smith\", 2000, 1, 8),\n",
    "]\n",
    "\n",
    "# Create DataFrame\n",
    "employee_df = spark.createDataFrame(data, schema)\n",
    "\n",
    "# Show DataFrame\n",
    "employee_df.show(truncate=False)\n"
   ]
  },
  {
   "cell_type": "code",
   "execution_count": 10,
   "id": "996f7814",
   "metadata": {},
   "outputs": [
    {
     "name": "stdout",
     "output_type": "stream",
     "text": [
      "+---------------------+\n",
      "|second_highest_salary|\n",
      "+---------------------+\n",
      "|                 2230|\n",
      "+---------------------+\n",
      "\n"
     ]
    }
   ],
   "source": [
    "max_salary = employee_df.agg(max(\"salary\")).collect()[0][0]\n",
    "\n",
    "employee_df.where(col(\"salary\") != max_salary)\\\n",
    "    .agg(max(\"salary\").alias('second_highest_salary'))\\\n",
    "    .show()"
   ]
  },
  {
   "cell_type": "code",
   "execution_count": 8,
   "id": "da6782e4",
   "metadata": {},
   "outputs": [
    {
     "name": "stdout",
     "output_type": "stream",
     "text": [
      "+---------------------+\n",
      "|second_highest_salary|\n",
      "+---------------------+\n",
      "|                 2230|\n",
      "+---------------------+\n",
      "\n"
     ]
    }
   ],
   "source": [
    "employee_df.createOrReplaceTempView('employee')\n",
    "spark.sql('''\n",
    "SELECT max(salary) as second_highest_salary\n",
    "FROM employee\n",
    "where salary not in (select max(salary)\n",
    "from employee)\n",
    "''').show()"
   ]
  }
 ],
 "metadata": {
  "kernelspec": {
   "display_name": "Python 3",
   "language": "python",
   "name": "python3"
  },
  "language_info": {
   "codemirror_mode": {
    "name": "ipython",
    "version": 3
   },
   "file_extension": ".py",
   "mimetype": "text/x-python",
   "name": "python",
   "nbconvert_exporter": "python",
   "pygments_lexer": "ipython3",
   "version": "3.11.0"
  }
 },
 "nbformat": 4,
 "nbformat_minor": 5
}
