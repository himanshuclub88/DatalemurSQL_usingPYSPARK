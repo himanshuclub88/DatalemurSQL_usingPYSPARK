{
 "cells": [
  {
   "cell_type": "markdown",
   "metadata": {},
   "source": [
    "## International Call Percentage  \n",
    "**Verizon SQL Interview Question**  \n",
    "\n",
    "### Question:\n",
    "A phone call is considered an international call when the person calling is in a different country than the person receiving the call.\n",
    "\n",
    "What percentage of phone calls are international? Round the result to 1 decimal.\n",
    "\n",
    "### Assumptions:\n",
    "- The `caller_id` in the `phone_info` table refers to both the caller and receiver.\n",
    "\n",
    "### Tables:\n",
    "\n",
    "#### `phone_calls` Table:\n",
    "| Column Name   | Type     |\n",
    "|---------------|----------|\n",
    "| caller_id     | integer  |\n",
    "| receiver_id   | integer  |\n",
    "| call_time     | timestamp|\n",
    "\n",
    "##### `phone_calls` Example Input:\n",
    "| caller_id | receiver_id | call_time            |\n",
    "|-----------|-------------|----------------------|\n",
    "| 1         | 2           | 2022-07-04 10:13:49  |\n",
    "| 1         | 5           | 2022-08-21 23:54:56  |\n",
    "| 5         | 1           | 2022-05-13 17:24:06  |\n",
    "| 5         | 6           | 2022-03-18 12:11:49  |\n",
    "\n",
    "#### `phone_info` Table:\n",
    "| Column Name   | Type     |\n",
    "|---------------|----------|\n",
    "| caller_id     | integer  |\n",
    "| country_id    | integer  |\n",
    "| network       | integer  |\n",
    "| phone_number  | string   |\n",
    "\n",
    "##### `phone_info` Example Input:\n",
    "| caller_id | country_id | network  | phone_number        |\n",
    "|-----------|------------|----------|---------------------|\n",
    "| 1         | US         | Verizon  | +1-212-897-1964     |\n",
    "| 2         | US         | Verizon  | +1-703-346-9529     |\n",
    "| 3         | US         | Verizon  | +1-650-828-4774     |\n",
    "| 4         | US         | Verizon  | +1-415-224-6663     |\n",
    "| 5         | IN         | Vodafone | +91 7503-907302     |\n",
    "| 6         | IN         | Vodafone | +91 2287-664895     |\n",
    "\n",
    "### Example Output:\n",
    "| international_calls_pct |\n",
    "|-------------------------|\n",
    "| 50.0                    |\n",
    "\n",
    "### Explanation:\n",
    "There is a total of 4 calls with 2 of them being international calls (from `caller_id` 1 → `receiver_id` 5, and `caller_id` 5 → `receiver_id` 1). Thus, the percentage is calculated as `2/4 = 50.0%`.\n"
   ]
  },
  {
   "cell_type": "code",
   "execution_count": 35,
   "metadata": {},
   "outputs": [
    {
     "name": "stdout",
     "output_type": "stream",
     "text": [
      "+---------+-----------+-------------------+\n",
      "|caller_id|receiver_id|call_time          |\n",
      "+---------+-----------+-------------------+\n",
      "|1        |2          |2022-07-04 10:13:49|\n",
      "|1        |5          |2022-08-21 23:54:56|\n",
      "|5        |1          |2022-05-13 17:24:06|\n",
      "|5        |6          |2022-03-18 12:11:49|\n",
      "+---------+-----------+-------------------+\n",
      "\n",
      "+---------+----------+--------+---------------+\n",
      "|caller_id|country_id|network |phone_number   |\n",
      "+---------+----------+--------+---------------+\n",
      "|1        |US        |Verizon |+1-212-897-1964|\n",
      "|2        |US        |Verizon |+1-703-346-9529|\n",
      "|3        |US        |Verizon |+1-650-828-4774|\n",
      "|4        |US        |Verizon |+1-415-224-6663|\n",
      "|5        |IN        |Vodafone|+91 7503-907302|\n",
      "|6        |IN        |Vodafone|+91 2287-664895|\n",
      "+---------+----------+--------+---------------+\n",
      "\n"
     ]
    }
   ],
   "source": [
    "from pyspark.sql import SparkSession\n",
    "from pyspark.sql.functions import *\n",
    "from pyspark.sql.functions import *\n",
    "\n",
    "# Initialize Spark session\n",
    "spark = SparkSession.builder.master('local[1]').appName(\"International Call Percentage\").getOrCreate()\n",
    "\n",
    "# Creating the phone_calls DataFrame\n",
    "phone_calls_data = [\n",
    "    (1, 2, \"2022-07-04 10:13:49\"),\n",
    "    (1, 5, \"2022-08-21 23:54:56\"),\n",
    "    (5, 1, \"2022-05-13 17:24:06\"),\n",
    "    (5, 6, \"2022-03-18 12:11:49\")\n",
    "]\n",
    "\n",
    "phone_calls_columns = [\"caller_id\", \"receiver_id\", \"call_time\"]\n",
    "\n",
    "phone_calls_df = spark.createDataFrame(phone_calls_data, phone_calls_columns)\n",
    "\n",
    "# Creating the phone_info DataFrame\n",
    "phone_info_data = [\n",
    "    (1, \"US\", \"Verizon\", \"+1-212-897-1964\"),\n",
    "    (2, \"US\", \"Verizon\", \"+1-703-346-9529\"),\n",
    "    (3, \"US\", \"Verizon\", \"+1-650-828-4774\"),\n",
    "    (4, \"US\", \"Verizon\", \"+1-415-224-6663\"),\n",
    "    (5, \"IN\", \"Vodafone\", \"+91 7503-907302\"),\n",
    "    (6, \"IN\", \"Vodafone\", \"+91 2287-664895\")\n",
    "]\n",
    "\n",
    "phone_info_columns = [\"caller_id\", \"country_id\", \"network\", \"phone_number\"]\n",
    "\n",
    "phone_info_df = spark.createDataFrame(phone_info_data, phone_info_columns)\n",
    "\n",
    "# Show DataFrames to verify\n",
    "phone_calls_df.show(truncate=False)\n",
    "phone_info_df.show(truncate=False)\n"
   ]
  },
  {
   "cell_type": "code",
   "execution_count": 47,
   "metadata": {},
   "outputs": [
    {
     "name": "stdout",
     "output_type": "stream",
     "text": [
      "+-----------------------+\n",
      "|international_calls_pct|\n",
      "+-----------------------+\n",
      "|                   50.0|\n",
      "+-----------------------+\n",
      "\n"
     ]
    }
   ],
   "source": [
    "phone_calls_df.alias('p')\\\n",
    "    .join(phone_info_df.alias('c'), col('p.caller_id')==col('c.caller_id'),'left')\\\n",
    "    .join(phone_info_df.alias('r'), col('p.receiver_id')==col('r.caller_id'),'left')\\\n",
    "    .withColumn(\"cc\",when(col('c.country_id')==col('r.country_id'),0).otherwise(1))\\\n",
    "    .select(\n",
    "        (100.0*sum(col('cc'))/lit(phone_calls_df.count())).alias('international_calls_pct')\n",
    "            ).show()"
   ]
  },
  {
   "cell_type": "code",
   "execution_count": 2,
   "metadata": {},
   "outputs": [],
   "source": [
    "phone_calls_df.createOrReplaceTempView('phone_calls')\n",
    "phone_info_df.createOrReplaceTempView('phone_info')"
   ]
  },
  {
   "cell_type": "code",
   "execution_count": 4,
   "metadata": {},
   "outputs": [
    {
     "name": "stdout",
     "output_type": "stream",
     "text": [
      "+-----------------------+\n",
      "|international_calls_pct|\n",
      "+-----------------------+\n",
      "|                   50.0|\n",
      "+-----------------------+\n",
      "\n"
     ]
    }
   ],
   "source": [
    "%%sparksql\n",
    "SELECT \n",
    "  round(100.0*sum(case WHEN c.country_id=r.country_id then 0 \n",
    "                  else 1 end)/sum(1),1) \n",
    "  as international_calls_pct\n",
    "  \n",
    "FROM phone_calls p \n",
    "  LEFT join phone_info c on p.caller_id=c.caller_id\n",
    "  left join phone_info r on p.receiver_id=r.caller_id;"
   ]
  }
 ],
 "metadata": {
  "kernelspec": {
   "display_name": "Python 3",
   "language": "python",
   "name": "python3"
  },
  "language_info": {
   "codemirror_mode": {
    "name": "ipython",
    "version": 3
   },
   "file_extension": ".py",
   "mimetype": "text/x-python",
   "name": "python",
   "nbconvert_exporter": "python",
   "pygments_lexer": "ipython3",
   "version": "3.11.0"
  }
 },
 "nbformat": 4,
 "nbformat_minor": 2
}
