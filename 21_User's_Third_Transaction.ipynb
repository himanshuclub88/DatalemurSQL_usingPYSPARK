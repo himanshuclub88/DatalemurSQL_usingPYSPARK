{
 "cells": [
  {
   "cell_type": "markdown",
   "id": "c51340b3",
   "metadata": {},
   "source": [
    "# User's Third Transaction\n",
    "\n",
    "## Uber SQL Interview Question\n",
    "\n",
    "### Question  \n",
    "This is the same question as problem #11 in the SQL Chapter of *Ace the Data Science Interview!*\n",
    "\n",
    "Assume you are given the table below on Uber transactions made by users. Write a query to obtain the **third transaction** of every user.  \n",
    "Output the `user_id`, `spend`, and `transaction_date`.\n",
    "\n",
    "---\n",
    "\n",
    "### `transactions` Table:\n",
    "\n",
    "| Column Name       | Type      |\n",
    "|-------------------|-----------|\n",
    "| user_id           | integer   |\n",
    "| spend             | decimal   |\n",
    "| transaction_date  | timestamp |\n",
    "\n",
    "---\n",
    "\n",
    "### Example Input:\n",
    "\n",
    "| user_id | spend | transaction_date     |\n",
    "|---------|--------|----------------------|\n",
    "| 111     | 100.50 | 01/08/2022 12:00:00  |\n",
    "| 111     | 55.00  | 01/10/2022 12:00:00  |\n",
    "| 121     | 36.00  | 01/18/2022 12:00:00  |\n",
    "| 145     | 24.99  | 01/26/2022 12:00:00  |\n",
    "| 111     | 89.60  | 02/05/2022 12:00:00  |\n",
    "\n",
    "---\n",
    "\n",
    "### Example Output:\n",
    "\n",
    "| user_id | spend | transaction_date     |\n",
    "|---------|--------|----------------------|\n",
    "| 111     | 89.60  | 02/05/2022 12:00:00  |\n",
    "\n",
    "---\n",
    "\n",
    "### Explanation:\n",
    "\n",
    "User **111** is the only one with three or more transactions.  \n",
    "Their **third transaction** occurred on **02/05/2022** with a spend of **89.60**.\n",
    "\n"
   ]
  },
  {
   "cell_type": "code",
   "execution_count": 2,
   "id": "e62a93b9",
   "metadata": {},
   "outputs": [
    {
     "name": "stdout",
     "output_type": "stream",
     "text": [
      "+-------+-----+-------------------+\n",
      "|user_id|spend|transaction_date   |\n",
      "+-------+-----+-------------------+\n",
      "|111    |100.5|2022-01-08 12:00:00|\n",
      "|111    |55.0 |2022-01-10 12:00:00|\n",
      "|121    |36.0 |2022-01-18 12:00:00|\n",
      "|145    |24.99|2022-01-26 12:00:00|\n",
      "|111    |89.6 |2022-02-05 12:00:00|\n",
      "+-------+-----+-------------------+\n",
      "\n"
     ]
    }
   ],
   "source": [
    "from pyspark.sql import SparkSession\n",
    "from pyspark.sql.types import *\n",
    "from pyspark.sql.functions import *\n",
    "\n",
    "# Create Spark session\n",
    "spark = SparkSession.builder.master('local[1]').appName(\"UsersThirdTransaction\").getOrCreate()\n",
    "\n",
    "# Define schema\n",
    "schema = StructType([\n",
    "    StructField(\"user_id\", IntegerType(), True),\n",
    "    StructField(\"spend\", FloatType(), True),\n",
    "    StructField(\"transaction_date\", StringType(), True),\n",
    "])\n",
    "\n",
    "# Sample data\n",
    "data = [\n",
    "    (111, 100.50, \"2022-01-08 12:00:00\"),\n",
    "    (111, 55.00, \"2022-01-10 12:00:00\"),\n",
    "    (121, 36.00, \"2022-01-18 12:00:00\"),\n",
    "    (145, 24.99, \"2022-01-26 12:00:00\"),\n",
    "    (111, 89.60, \"2022-02-05 12:00:00\"),\n",
    "]\n",
    "\n",
    "# Create DataFrame\n",
    "transactions_df = spark.createDataFrame(data, schema)\n",
    "transactions_df = transactions_df.withColumn(\"transaction_date\", col(\"transaction_date\").cast(TimestampType()))\n",
    "# Show DataFrame\n",
    "transactions_df.show(truncate=False)\n"
   ]
  },
  {
   "cell_type": "code",
   "execution_count": 8,
   "id": "970192c6",
   "metadata": {},
   "outputs": [
    {
     "name": "stdout",
     "output_type": "stream",
     "text": [
      "+-------+-----+-------------------+\n",
      "|user_id|spend|   transaction_date|\n",
      "+-------+-----+-------------------+\n",
      "|    111| 89.6|2022-02-05 12:00:00|\n",
      "+-------+-----+-------------------+\n",
      "\n"
     ]
    }
   ],
   "source": [
    "from pyspark.sql.window import Window\n",
    "winspec= Window.partitionBy('user_id').orderBy('transaction_date')\n",
    "\n",
    "transactions_df\\\n",
    "    .withColumn('rnk', row_number().over(winspec))\\\n",
    "    .where('rnk=3')\\\n",
    "    .drop('rnk').show()"
   ]
  },
  {
   "cell_type": "code",
   "execution_count": 5,
   "id": "4bd8822f",
   "metadata": {},
   "outputs": [
    {
     "name": "stdout",
     "output_type": "stream",
     "text": [
      "+-------+-----+-------------------+\n",
      "|user_id|spend|   transaction_date|\n",
      "+-------+-----+-------------------+\n",
      "|    111| 89.6|2022-02-05 12:00:00|\n",
      "+-------+-----+-------------------+\n",
      "\n"
     ]
    }
   ],
   "source": [
    "transactions_df.createOrReplaceTempView('transactions')\n",
    "\n",
    "spark.sql(\n",
    "'''\n",
    "with cte as (\n",
    "SELECT user_id,\n",
    "  spend,\n",
    "  transaction_date,\n",
    "  row_number() over(PARTITION by user_id order by transaction_date) as rnk\n",
    "FROM transactions)\n",
    "\n",
    "SELECT \n",
    "  user_id,\n",
    "  spend,\n",
    "  transaction_date\n",
    "FROM cte\n",
    "WHERE rnk=3;\n",
    "'''\n",
    ").show()"
   ]
  }
 ],
 "metadata": {
  "kernelspec": {
   "display_name": "Python 3",
   "language": "python",
   "name": "python3"
  },
  "language_info": {
   "codemirror_mode": {
    "name": "ipython",
    "version": 3
   },
   "file_extension": ".py",
   "mimetype": "text/x-python",
   "name": "python",
   "nbconvert_exporter": "python",
   "pygments_lexer": "ipython3",
   "version": "3.11.0"
  }
 },
 "nbformat": 4,
 "nbformat_minor": 5
}
